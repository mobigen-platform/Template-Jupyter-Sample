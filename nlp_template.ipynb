{
 "cells": [
  {
   "cell_type": "markdown",
   "source": [
    "# 자연어 처리 (NLP)\n",
    " > 자연어 처리 및 분석이란 텍스트 데이터와 같은 비정형의 자연어를 이해하고 해석하여, 이에 관한 인사이트를 도출해내는 분석 기법을 의미합니다.\n",
    "\n",
    "## 목차\n",
    "- import Base code\n",
    "    - word cloud / 단어 빈도 분석\n",
    "    - word_relative / 연관어 분석\n",
    "    - key_sentence / 핵심 문장 추출\n",
    "- 함수 시연\n",
    "    - word cloud / 단어 빈도 분석\n",
    "    - word_relative / 연관어 분석\n",
    "    - key_sentence / 핵심 문장 추출"
   ],
   "metadata": {
    "collapsed": false,
    "pycharm": {
     "name": "#%% md\n"
    }
   }
  },
  {
   "cell_type": "markdown",
   "source": [
    "## import Base code"
   ],
   "metadata": {
    "collapsed": false,
    "pycharm": {
     "name": "#%% md\n"
    }
   }
  },
  {
   "cell_type": "code",
   "execution_count": null,
   "outputs": [],
   "source": [
    "! pip install textrank==0.1.2"
   ],
   "metadata": {
    "collapsed": false,
    "pycharm": {
     "name": "#%%\n"
    }
   }
  },
  {
   "cell_type": "code",
   "execution_count": 11,
   "outputs": [],
   "source": [
    "import pandas as pd\n",
    "\n",
    "from collections import Counter\n",
    "from konlpy.tag import Mecab\n",
    "from nltk import sent_tokenize"
   ],
   "metadata": {
    "collapsed": false,
    "pycharm": {
     "name": "#%%\n"
    }
   }
  },
  {
   "cell_type": "markdown",
   "source": [
    "## word cloud / 단어 빈도 분석\n",
    "> 단어 빈도 분석이란 특정 문서에서 자주 사용되는 단어를 추출해내어, 빈도 수에 따라 중요도를 분석하는 방법을 말합니다.\n",
    "\n",
    "- 구성\n",
    "    - word_cloud 실행함수"
   ],
   "metadata": {
    "collapsed": false,
    "pycharm": {
     "name": "#%% md\n"
    }
   }
  },
  {
   "cell_type": "code",
   "execution_count": 12,
   "outputs": [],
   "source": [
    "# word_cloud 실행함수\n",
    "\n",
    "def word_cloud(lines):\n",
    "    noun_list = Mecab().nouns(lines)\n",
    "    df = pd.DataFrame([[k, v] for k, v in dict(Counter(noun_list)).items()], columns=[\"유형\", \"개수\"])\n",
    "    df = df.sort_values(\"개수\", ascending=False).head(50)\n",
    "    return {\n",
    "        \"fields\": [\n",
    "            {\"name\": \"유형\", \"type\": \"TEXT\"},\n",
    "            {\"name\": \"개수\", \"type\": \"INTEGER\"}],\n",
    "        \"results\": df.values.tolist()\n",
    "    }"
   ],
   "metadata": {
    "collapsed": false,
    "pycharm": {
     "name": "#%%\n"
    }
   }
  },
  {
   "cell_type": "markdown",
   "source": [
    "## word_relative / 연관어 분석\n",
    "> 연관어 분석은 문서 내 추출된 단어들이 동시에 출현한 빈도를 계산해서, 키워드 간의 연관도에 따른 네트워크 구성을 보여주는 시각화 기법입니다.\n",
    "\n",
    "- 구성\n",
    "  - word_relative 실행함수\n",
    "  - word_relative main logic"
   ],
   "metadata": {
    "collapsed": false,
    "pycharm": {
     "name": "#%% md\n"
    }
   }
  },
  {
   "cell_type": "code",
   "execution_count": 13,
   "outputs": [],
   "source": [
    "# word_relative 실행함수\n",
    "\n",
    "def word_relative(lines):\n",
    "    nlp_word_relative = NlpWordRelative()\n",
    "    nlp_word_relative.lines2sentences(lines)\n",
    "    df = nlp_word_relative.start()\n",
    "    return {\n",
    "        \"fields\": [\n",
    "            {\"name\": \"id\", \"type\": \"TEXT\"},\n",
    "            {\"name\": \"link\", \"type\": \"TEXT\"},\n",
    "            {\"name\": \"radius\", \"type\": \"INTEGER\"},\n",
    "            {\"name\": \"color\", \"type\": \"TEXT\"}],\n",
    "        \"results\": df.values.tolist()\n",
    "    }"
   ],
   "metadata": {
    "collapsed": false,
    "pycharm": {
     "name": "#%%\n"
    }
   }
  },
  {
   "cell_type": "code",
   "execution_count": 14,
   "outputs": [],
   "source": [
    "# word_relative main logic\n",
    "\n",
    "from colorutils import Color\n",
    "\n",
    "\n",
    "class NlpWordRelative:\n",
    "    def __init__(self):\n",
    "        self.key_list = {}\n",
    "        self.group_list = {}\n",
    "        self.colors = [0, 60, 120, 240, 300]\n",
    "        self.lines = None\n",
    "\n",
    "    def create_radius_df(self, words_list, n):\n",
    "        count = {}\n",
    "        for line in words_list:\n",
    "            words = list(set(line.split()))\n",
    "            for i, a in enumerate(words):\n",
    "                for b in words[i + 1:]:\n",
    "                    if a > b:\n",
    "                        count[b, a] = count.get((b, a), 0) + 1\n",
    "                    else:\n",
    "                        count[a, b] = count.get((a, b), 0) + 1\n",
    "\n",
    "        count.get((\"a\", \"b\"), 0)\n",
    "        df = pd.DataFrame.from_dict(count, orient='index')\n",
    "\n",
    "        edge_list = []\n",
    "        for i in range(len(df)):\n",
    "            edge_list.append([df.index[i][0], df.index[i][1], df[0][i], '#bfbfbf'])\n",
    "\n",
    "        df2 = pd.DataFrame(edge_list, columns=[\"id\", \"link\", \"radius\", \"color\"])\\\n",
    "            .sort_values(by=['radius'], ascending=False)\n",
    "\n",
    "        radius_df = df2.head(n)\n",
    "        return radius_df\n",
    "\n",
    "    def combine_group(self, l_idx, r_idx=None, new_group=None):\n",
    "        if r_idx:\n",
    "            for k, v in self.key_list.items():\n",
    "                if v == r_idx:\n",
    "                    self.key_list[k] = l_idx\n",
    "            new_group = self.group_list.pop(r_idx)\n",
    "        for k, v in new_group.items():\n",
    "            if k in self.group_list[l_idx].keys():\n",
    "                self.group_list[l_idx][k] = self.group_list[l_idx][k] + v\n",
    "            else:\n",
    "                self.group_list[l_idx][k] = v\n",
    "\n",
    "    def key_check(self, set_id, w):\n",
    "        if w[0] not in self.key_list and w[1] not in self.key_list:\n",
    "            set_id += 1  # new set_id\n",
    "            self.key_list[w[0]] = set_id\n",
    "            self.key_list[w[1]] = set_id\n",
    "            return set_id, None\n",
    "        elif w[0] in self.key_list and w[1] not in self.key_list:\n",
    "            self.key_list[w[1]] = self.key_list[w[0]]\n",
    "            return self.key_list[w[0]], None\n",
    "        elif w[1] in self.key_list and w[0] not in self.key_list:\n",
    "            self.key_list[w[0]] = self.key_list[w[1]]\n",
    "            return self.key_list[w[1]], None\n",
    "        else:\n",
    "            if self.key_list[w[0]] == self.key_list[w[1]]:\n",
    "                return self.key_list[w[0]], None\n",
    "            else:\n",
    "                return self.key_list[w[0]], self.key_list[w[1]]\n",
    "\n",
    "    def hsv_to_hex(self, h, s, v):\n",
    "        c = Color(hsv=(h, s / 100, v / 100))\n",
    "        red, green, blue = c.rgb\n",
    "        ir, ig, ib = int(red), int(green), int(blue)\n",
    "        return '#' + hex(ir)[2:].zfill(2) + hex(ig)[2:].zfill(2) + hex(ib)[2:].zfill(2)\n",
    "\n",
    "    def create_vertex_list(self, nodes, hue):\n",
    "        nodes_dict = dict(sorted(nodes.items(), key=lambda x: x[1], reverse=True))\n",
    "        node_list = []\n",
    "        s = 100\n",
    "        before = 0\n",
    "        for k, v in nodes_dict.items():\n",
    "            if before > v:\n",
    "                s -= 10\n",
    "            before = v\n",
    "            node_list.append([k, k, v, self.hsv_to_hex(hue, s, 100)])\n",
    "        node_list_with_color = pd.DataFrame(node_list, columns=[\"id\", \"link\", \"radius\", \"color\"])\n",
    "        return node_list_with_color\n",
    "\n",
    "    def manage_scale(self, nodes):\n",
    "        for k, v in nodes.items():\n",
    "            if v > 50:\n",
    "                nodes[k] = 50\n",
    "        return nodes\n",
    "\n",
    "    def lines2sentences(self, lines):   # 문장의 끝맺음이 제대로 되지 않을때 문장 분리\n",
    "        sentences = sent_tokenize(lines)\n",
    "        for idx in range(0, len(sentences)):\n",
    "            if len(sentences[idx]) <= 10:\n",
    "                sentences[idx - 1] += (' ' + sentences[idx])\n",
    "                sentences[idx] = ''\n",
    "        self.lines = sentences\n",
    "\n",
    "    def read_file(self, path):  # 문장의 끝맺음이 제대로 될때 사용시 성능 향상\n",
    "        text_file = open(path, \"r\")\n",
    "        file_content = text_file.read()\n",
    "\n",
    "        content_list = file_content.split(\"\\n\")\n",
    "        text_file.close()\n",
    "\n",
    "        self.lines = content_list\n",
    "\n",
    "    def start(self):\n",
    "        words_list = []\n",
    "        for text in self.lines:\n",
    "            words_list.append(text.strip())\n",
    "\n",
    "        radius_df = self.create_radius_df(words_list, 100)\n",
    "\n",
    "        i = 0\n",
    "        for index, row in radius_df.iterrows():\n",
    "            w1 = row['id']\n",
    "            w2 = row['link']\n",
    "            l_set_idx, r_set_idx = self.key_check(i, [w1, w2])\n",
    "            group = {}\n",
    "\n",
    "            if r_set_idx:\n",
    "                self.combine_group(l_set_idx, r_set_idx, None)\n",
    "                self.group_list[l_set_idx][w1] += row['radius']\n",
    "                self.group_list[l_set_idx][w2] += row['radius']\n",
    "            else:\n",
    "                if l_set_idx not in self.group_list:\n",
    "                    group[w1] = row['radius']\n",
    "                    group[w2] = row['radius']\n",
    "                    self.group_list[l_set_idx] = group\n",
    "                else:\n",
    "                    group[w1] = row['radius']\n",
    "                    group[w2] = row['radius']\n",
    "                    self.combine_group(l_set_idx, None, group)\n",
    "            i += 1\n",
    "\n",
    "        frames = []\n",
    "        j = 0\n",
    "        for k, v in self.group_list.items():\n",
    "            frames.append(self.create_vertex_list(self.manage_scale(v), self.colors[j]))\n",
    "            j += 1\n",
    "\n",
    "        frames.append(radius_df)\n",
    "        result = pd.concat(frames)\n",
    "\n",
    "        return result\n"
   ],
   "metadata": {
    "collapsed": false,
    "pycharm": {
     "name": "#%%\n"
    }
   }
  },
  {
   "cell_type": "markdown",
   "source": [
    "## key_sentence / 핵심 문장 추출\n",
    "> 핵심 문장 추출을 통해 문서를 요약할 수 있는 핵심이 되는 내용을 확인할 수 있습니다.\n",
    "\n",
    "- 구성\n",
    "  - key_sentence 실행함수\n",
    "  - key_sentence main logic"
   ],
   "metadata": {
    "collapsed": false,
    "pycharm": {
     "name": "#%% md\n"
    }
   }
  },
  {
   "cell_type": "code",
   "execution_count": 15,
   "outputs": [],
   "source": [
    "# key_sentence 실행함수\n",
    "\n",
    "def key_sentence(lines):\n",
    "    nlp_sentence = NlpSentence()\n",
    "    nlp_sentence.lines2sentences(lines)\n",
    "    nlp_sentence.set_summary_line_cnt(5)\n",
    "\n",
    "    runner = nlp_sentence.run()\n",
    "    return {\n",
    "        \"fields\": [\n",
    "            {\"name\": \"핵심 문장 추출\", \"type\": \"TEXT\"}],\n",
    "        \"results\": [[res[2]] for res in runner]\n",
    "    }"
   ],
   "metadata": {
    "collapsed": false,
    "pycharm": {
     "name": "#%%\n"
    }
   }
  },
  {
   "cell_type": "code",
   "execution_count": 16,
   "outputs": [],
   "source": [
    "# key_sentence main logic\n",
    "\n",
    "from konlpy.tag import Komoran\n",
    "from textrank import KeysentenceSummarizer\n",
    "\n",
    "\n",
    "class NlpSentence:\n",
    "    def __init__(self):\n",
    "        self.komoran = Komoran()\n",
    "        self.sents = None\n",
    "        self.cnt = 6\n",
    "\n",
    "    def read_file(self, path):  # 문장의 끝맺음이 제대로 될때 사용시 성능 향상\n",
    "        text_file = open(path, \"r\")\n",
    "        file_content = text_file.read()\n",
    "\n",
    "        content_list = file_content.split(\"\\n\")\n",
    "        text_file.close()\n",
    "\n",
    "        self.sents = content_list\n",
    "\n",
    "    def lines2sentences(self, lines):   # 문장의 끝맺음이 제대로 되지 않을때 문장 분리\n",
    "        sentences = sent_tokenize(lines)\n",
    "        for idx in range(0, len(sentences)):\n",
    "            if len(sentences[idx]) <= 10:\n",
    "                sentences[idx - 1] += (' ' + sentences[idx])\n",
    "                sentences[idx] = ''\n",
    "\n",
    "        self.sents = sentences\n",
    "\n",
    "    def komoran_tokenizer(self, sent):\n",
    "        words = self.komoran.pos(sent, join=True)\n",
    "        words = [w for w in words if ('/NN' in w or '/XR' in w or '/VA' in w or '/VV' in w)]\n",
    "        return words\n",
    "\n",
    "    def set_summary_line_cnt(self, cnt):\n",
    "        self.cnt = cnt\n",
    "\n",
    "    def run(self):\n",
    "        summarizer = KeysentenceSummarizer(\n",
    "            tokenize=self.komoran_tokenizer,\n",
    "            min_sim=0.3,\n",
    "            verbose=False\n",
    "        )\n",
    "        keysents = summarizer.summarize(self.sents, topk=self.cnt)\n",
    "        return keysents\n"
   ],
   "metadata": {
    "collapsed": false,
    "pycharm": {
     "name": "#%%\n"
    }
   }
  },
  {
   "cell_type": "markdown",
   "source": [
    "# 함수 시연\n",
    "## word_cloud / 단어 빈도 분석"
   ],
   "metadata": {
    "collapsed": false,
    "pycharm": {
     "name": "#%% md\n"
    }
   }
  },
  {
   "cell_type": "code",
   "execution_count": 17,
   "outputs": [
    {
     "name": "stdout",
     "output_type": "stream",
     "text": [
      "{'fields': [{'name': '유형', 'type': 'TEXT'}, {'name': '개수', 'type': 'INTEGER'}], 'results': [['언어', 6], ['파이썬', 3], ['이용', 2], ['기관', 2], ['모듈', 2], ['및', 2], ['프로그램', 2], ['문서', 1], ['말', 1], ['문자', 1], ['기능', 1], ['외', 1], ['지원', 1], ['연결', 1], ['접착제', 1], ['문자열', 1], ['실제', 1], ['상용', 1], ['응용', 1], ['스크립트', 1], ['순수', 1], ['유니코드', 1], ['도움', 1], ['정리', 1], ['채용', 1], ['산업', 1], ['증가', 1], ['펄', 1], ['전문가', 1], ['사용', 1], ['보유', 1], ['동적', 1], ['타이핑', 1], ['범용', 1], ['프로그래밍', 1], ['루비', 1], ['초보자', 1], ['비교', 1], ['플랫폼', 1], ['수', 1], ['라이브러리', 1], ['대학', 1], ['교육', 1], ['연구', 1], ['처리', 1]]}\n"
     ]
    }
   ],
   "source": [
    "lines = \"파이썬은 초보자부터 전문가까지 사용자층을 보유하고 있다. 동적 타이핑(dynamic typing) 범용 프로그래밍 언어로, 펄 및 루비와 자주 비교된다. 다양한 플랫폼에서 쓸 수 있고, 라이브러리(모듈)가 풍부하여, 대학을 비롯한 여러 교육 기관, 연구 기관 및 산업계에서 이용이 증가하고 있다. 또 파이썬은 순수한 프로그램 언어로서의 기능 외에도 다른 언어로 쓰인 모듈들을 연결하는 접착제 언어로써 자주 이용된다. 실제 파이썬은 많은 상용 응용 프로그램에서 스크립트 언어로 채용되고 있다. 도움말 문서도 정리가 잘 되어 있으며, 유니코드 문자열을 지원해서 다양한 언어의 문자 처리에도 능하다.\"\n",
    "\n",
    "word_cloud_result = word_cloud(lines)\n",
    "print(word_cloud_result)"
   ],
   "metadata": {
    "collapsed": false,
    "pycharm": {
     "name": "#%%\n"
    }
   }
  },
  {
   "cell_type": "markdown",
   "source": [
    "## word_relative / 연관어 분석"
   ],
   "metadata": {
    "collapsed": false,
    "pycharm": {
     "name": "#%% md\n"
    }
   }
  },
  {
   "cell_type": "code",
   "execution_count": 18,
   "outputs": [
    {
     "name": "stdout",
     "output_type": "stream",
     "text": [
      "{'fields': [{'name': 'id', 'type': 'TEXT'}, {'name': 'link', 'type': 'TEXT'}, {'name': 'radius', 'type': 'INTEGER'}, {'name': 'color', 'type': 'TEXT'}], 'results': [['파이썬은', '파이썬은', 16, '#ff0000'], ['언어로', '언어로', 15, '#ff1919'], ['자주', '자주', 14, '#ff3333'], ['프로그램', '프로그램', 13, '#ff4c4c'], ['접착제', '접착제', 13, '#ff4c4c'], ['쓰인', '쓰인', 13, '#ff4c4c'], ['언어로써', '언어로써', 13, '#ff4c4c'], ['다른', '다른', 12, '#ff6666'], ['언어로서의', '언어로서의', 12, '#ff6666'], ['연결하는', '연결하는', 12, '#ff6666'], ['순수한', '순수한', 12, '#ff6666'], ['이용된다.', '이용된다.', 12, '#ff6666'], ['모듈들을', '모듈들을', 12, '#ff6666'], ['있다.', '있다.', 11, '#ff7f7f'], ['또', '또', 6, '#ff9999'], ['외에도', '외에도', 4, '#ffb2b2'], ['많은', '많은', 3, '#ffcccc'], ['상용', '상용', 2, '#ffe5e5'], ['채용되고', '채용되고', 2, '#ffe5e5'], ['기능', '기능', 2, '#ffe5e5'], ['전문가까지', '전문가까지', 1, '#ffffff'], ['응용', '응용', 1, '#ffffff'], ['스크립트', '스크립트', 1, '#ffffff'], ['프로그램에서', '프로그램에서', 1, '#ffffff'], ['실제', '실제', 1, '#ffffff'], ['언어로', '파이썬은', 2, '#bfbfbf'], ['있다.', '파이썬은', 2, '#bfbfbf'], ['있다.', '전문가까지', 1, '#bfbfbf'], ['언어로', '연결하는', 1, '#bfbfbf'], ['연결하는', '프로그램', 1, '#bfbfbf'], ['연결하는', '접착제', 1, '#bfbfbf'], ['연결하는', '파이썬은', 1, '#bfbfbf'], ['쓰인', '연결하는', 1, '#bfbfbf'], ['언어로써', '연결하는', 1, '#bfbfbf'], ['다른', '언어로서의', 1, '#bfbfbf'], ['언어로서의', '연결하는', 1, '#bfbfbf'], ['언어로서의', '프로그램', 1, '#bfbfbf'], ['언어로서의', '접착제', 1, '#bfbfbf'], ['언어로서의', '파이썬은', 1, '#bfbfbf'], ['쓰인', '언어로서의', 1, '#bfbfbf'], ['언어로서의', '언어로써', 1, '#bfbfbf'], ['다른', '연결하는', 1, '#bfbfbf'], ['순수한', '언어로', 1, '#bfbfbf'], ['다른', '프로그램', 1, '#bfbfbf'], ['순수한', '언어로써', 1, '#bfbfbf'], ['순수한', '쓰인', 1, '#bfbfbf'], ['순수한', '파이썬은', 1, '#bfbfbf'], ['순수한', '접착제', 1, '#bfbfbf'], ['순수한', '프로그램', 1, '#bfbfbf'], ['다른', '순수한', 1, '#bfbfbf'], ['순수한', '언어로서의', 1, '#bfbfbf'], ['순수한', '연결하는', 1, '#bfbfbf'], ['언어로', '이용된다.', 1, '#bfbfbf'], ['언어로써', '이용된다.', 1, '#bfbfbf'], ['쓰인', '이용된다.', 1, '#bfbfbf'], ['이용된다.', '파이썬은', 1, '#bfbfbf'], ['언어로', '언어로서의', 1, '#bfbfbf'], ['다른', '접착제', 1, '#bfbfbf'], ['이용된다.', '프로그램', 1, '#bfbfbf'], ['언어로써', '파이썬은', 1, '#bfbfbf'], ['많은', '채용되고', 1, '#bfbfbf'], ['언어로', '있다.', 1, '#bfbfbf'], ['응용', '있다.', 1, '#bfbfbf'], ['스크립트', '있다.', 1, '#bfbfbf'], ['있다.', '프로그램에서', 1, '#bfbfbf'], ['상용', '있다.', 1, '#bfbfbf'], ['실제', '있다.', 1, '#bfbfbf'], ['있다.', '채용되고', 1, '#bfbfbf'], ['많은', '있다.', 1, '#bfbfbf'], ['언어로', '언어로써', 1, '#bfbfbf'], ['쓰인', '언어로', 1, '#bfbfbf'], ['쓰인', '언어로써', 1, '#bfbfbf'], ['쓰인', '파이썬은', 1, '#bfbfbf'], ['다른', '파이썬은', 1, '#bfbfbf'], ['언어로', '접착제', 1, '#bfbfbf'], ['언어로써', '접착제', 1, '#bfbfbf'], ['쓰인', '접착제', 1, '#bfbfbf'], ['접착제', '파이썬은', 1, '#bfbfbf'], ['언어로', '프로그램', 1, '#bfbfbf'], ['언어로써', '프로그램', 1, '#bfbfbf'], ['쓰인', '프로그램', 1, '#bfbfbf'], ['파이썬은', '프로그램', 1, '#bfbfbf'], ['접착제', '프로그램', 1, '#bfbfbf'], ['다른', '언어로', 1, '#bfbfbf'], ['다른', '언어로써', 1, '#bfbfbf'], ['다른', '쓰인', 1, '#bfbfbf'], ['이용된다.', '접착제', 1, '#bfbfbf'], ['다른', '이용된다.', 1, '#bfbfbf'], ['많은', '상용', 1, '#bfbfbf'], ['모듈들을', '접착제', 1, '#bfbfbf'], ['다른', '모듈들을', 1, '#bfbfbf'], ['모듈들을', '언어로서의', 1, '#bfbfbf'], ['모듈들을', '연결하는', 1, '#bfbfbf'], ['모듈들을', '순수한', 1, '#bfbfbf'], ['모듈들을', '이용된다.', 1, '#bfbfbf'], ['모듈들을', '외에도', 1, '#bfbfbf'], ['기능', '모듈들을', 1, '#bfbfbf'], ['언어로', '자주', 1, '#bfbfbf'], ['언어로써', '자주', 1, '#bfbfbf'], ['쓰인', '자주', 1, '#bfbfbf'], ['자주', '파이썬은', 1, '#bfbfbf'], ['자주', '접착제', 1, '#bfbfbf'], ['자주', '프로그램', 1, '#bfbfbf'], ['다른', '자주', 1, '#bfbfbf'], ['언어로서의', '자주', 1, '#bfbfbf'], ['연결하는', '자주', 1, '#bfbfbf'], ['순수한', '자주', 1, '#bfbfbf'], ['이용된다.', '자주', 1, '#bfbfbf'], ['외에도', '자주', 1, '#bfbfbf'], ['기능', '자주', 1, '#bfbfbf'], ['모듈들을', '자주', 1, '#bfbfbf'], ['또', '언어로', 1, '#bfbfbf'], ['또', '언어로써', 1, '#bfbfbf'], ['또', '쓰인', 1, '#bfbfbf'], ['또', '파이썬은', 1, '#bfbfbf'], ['또', '접착제', 1, '#bfbfbf'], ['또', '프로그램', 1, '#bfbfbf'], ['모듈들을', '프로그램', 1, '#bfbfbf'], ['모듈들을', '파이썬은', 1, '#bfbfbf'], ['언어로서의', '이용된다.', 1, '#bfbfbf'], ['모듈들을', '쓰인', 1, '#bfbfbf'], ['연결하는', '이용된다.', 1, '#bfbfbf'], ['순수한', '이용된다.', 1, '#bfbfbf'], ['언어로', '외에도', 1, '#bfbfbf'], ['언어로써', '외에도', 1, '#bfbfbf']]}\n"
     ]
    }
   ],
   "source": [
    "lines = \"파이썬은 초보자부터 전문가까지 사용자층을 보유하고 있다. 동적 타이핑(dynamic typing) 범용 프로그래밍 언어로, 펄 및 루비와 자주 비교된다. 다양한 플랫폼에서 쓸 수 있고, 라이브러리(모듈)가 풍부하여, 대학을 비롯한 여러 교육 기관, 연구 기관 및 산업계에서 이용이 증가하고 있다. 또 파이썬은 순수한 프로그램 언어로서의 기능 외에도 다른 언어로 쓰인 모듈들을 연결하는 접착제 언어로써 자주 이용된다. 실제 파이썬은 많은 상용 응용 프로그램에서 스크립트 언어로 채용되고 있다. 도움말 문서도 정리가 잘 되어 있으며, 유니코드 문자열을 지원해서 다양한 언어의 문자 처리에도 능하다.\"\n",
    "\n",
    "\n",
    "word_relative_result = word_relative(lines)\n",
    "print(word_relative_result)"
   ],
   "metadata": {
    "collapsed": false,
    "pycharm": {
     "name": "#%%\n"
    }
   }
  },
  {
   "cell_type": "markdown",
   "source": [
    "## key_sentence / 핵심 문장 추출"
   ],
   "metadata": {
    "collapsed": false,
    "pycharm": {
     "name": "#%% md\n"
    }
   }
  },
  {
   "cell_type": "code",
   "execution_count": 19,
   "outputs": [
    {
     "name": "stdout",
     "output_type": "stream",
     "text": [
      "{'fields': [{'name': '핵심 문장 추출', 'type': 'TEXT'}], 'results': [['또 파이썬은 순수한 프로그램 언어로서의 기능 외에도 다른 언어로 쓰인 모듈들을 연결하는 접착제 언어로써 자주 이용된다.'], ['다양한 플랫폼에서 쓸 수 있고, 라이브러리(모듈)가 풍부하여, 대학을 비롯한 여러 교육 기관, 연구 기관 및 산업계에서 이용이 증가하고 있다.'], ['도움말 문서도 정리가 잘 되어 있으며, 유니코드 문자열을 지원해서 다양한 언어의 문자 처리에도 능하다.'], ['실제 파이썬은 많은 상용 응용 프로그램에서 스크립트 언어로 채용되고 있다.'], ['동적 타이핑(dynamic typing) 범용 프로그래밍 언어로, 펄 및 루비와 자주 비교된다.']]}\n"
     ]
    }
   ],
   "source": [
    "lines = \"파이썬은 초보자부터 전문가까지 사용자층을 보유하고 있다. 동적 타이핑(dynamic typing) 범용 프로그래밍 언어로, 펄 및 루비와 자주 비교된다. 다양한 플랫폼에서 쓸 수 있고, 라이브러리(모듈)가 풍부하여, 대학을 비롯한 여러 교육 기관, 연구 기관 및 산업계에서 이용이 증가하고 있다. 또 파이썬은 순수한 프로그램 언어로서의 기능 외에도 다른 언어로 쓰인 모듈들을 연결하는 접착제 언어로써 자주 이용된다. 실제 파이썬은 많은 상용 응용 프로그램에서 스크립트 언어로 채용되고 있다. 도움말 문서도 정리가 잘 되어 있으며, 유니코드 문자열을 지원해서 다양한 언어의 문자 처리에도 능하다.\"\n",
    "\n",
    "\n",
    "key_sentence_result = key_sentence(lines)\n",
    "print(key_sentence_result)"
   ],
   "metadata": {
    "collapsed": false,
    "pycharm": {
     "name": "#%%\n"
    }
   }
  }
 ],
 "metadata": {
  "kernelspec": {
   "display_name": "Python 3",
   "language": "python",
   "name": "python3"
  },
  "language_info": {
   "codemirror_mode": {
    "name": "ipython",
    "version": 2
   },
   "file_extension": ".py",
   "mimetype": "text/x-python",
   "name": "python",
   "nbconvert_exporter": "python",
   "pygments_lexer": "ipython2",
   "version": "2.7.6"
  }
 },
 "nbformat": 4,
 "nbformat_minor": 0
}