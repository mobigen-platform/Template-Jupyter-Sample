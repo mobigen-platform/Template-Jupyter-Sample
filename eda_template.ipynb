{
 "cells": [
  {
   "cell_type": "markdown",
   "source": [
    "# EDA\n",
    "> EDA란 수집된 데이터에 대해 통계 및 대표값 추출 등을 통해 다양한 각도에서 관찰하고 이해할 수 있도록 하는 분석 기법을 의미합니다.\n",
    "\n",
    "## 목차\n",
    "- import Base code\n",
    "    - representative_value / 대푯값\n",
    "    - quantile / 사분위수\n",
    "    - outlier / 이상치\n",
    "    - scatterplot / 산점도\n",
    "    - corr / 상관관계\n",
    "- 함수 시연\n",
    "    - representative_value / 대푯값\n",
    "    - quantile / 사분위수\n",
    "    - outlier / 이상치\n",
    "    - scatterplot / 산점도\n",
    "    - corr / 상관관계"
   ],
   "metadata": {
    "collapsed": false,
    "pycharm": {
     "name": "#%% md\n"
    }
   }
  },
  {
   "cell_type": "markdown",
   "source": [
    "## import Base code\n"
   ],
   "metadata": {
    "collapsed": false,
    "pycharm": {
     "name": "#%% md\n"
    }
   }
  },
  {
   "cell_type": "code",
   "execution_count": 33,
   "outputs": [],
   "source": [
    "import pandas as pd\n",
    "import numpy as np\n",
    "\n",
    "\n",
    "def type_mapping(field_type):\n",
    "    support = {\n",
    "        \"int64\": \"INTEGER\",\n",
    "        \"float64\": \"REAL\",\n",
    "        \"datetime64\": \"TIMESTAMP\",\n",
    "        \"object\": \"TEXT\",\n",
    "        np.dtype('float64'): \"REAL\",\n",
    "        np.dtype('int32'): \"INTEGER\",\n",
    "        np.dtype('int64'): \"INTEGER\",\n",
    "        np.dtype('object'): \"TEXT\"\n",
    "    }\n",
    "    python_type = support[field_type]\n",
    "    return python_type\n",
    "\n",
    "def parse_df(df):\n",
    "    if isinstance(df, pd.DataFrame):\n",
    "        fields = [{\"name\": a[0], \"type\": type_mapping(a[1])} for a in zip(df.columns.tolist(), df.dtypes.apply(lambda x: x.name).to_list())]\n",
    "        return {\n",
    "            \"fields\": fields,\n",
    "            \"results\": df.values.tolist()\n",
    "        }\n",
    "    else:\n",
    "        return df"
   ],
   "metadata": {
    "collapsed": false,
    "pycharm": {
     "name": "#%%\n"
    }
   }
  },
  {
   "cell_type": "markdown",
   "source": [
    "## representative_value / 대푯값\n",
    "> 객체의 기초 통계 정보를 요약해주는 함수입니다. 평균, 표준 편차, 최대/최소값, 사분위수 등을 계산하여 반환합니다.\n",
    "\n",
    "- 구성\n",
    "  -  representative_value 실행함수"
   ],
   "metadata": {
    "collapsed": false,
    "pycharm": {
     "name": "#%% md\n"
    }
   }
  },
  {
   "cell_type": "code",
   "execution_count": 34,
   "outputs": [],
   "source": [
    "# representative_value 실행함수\n",
    "\n",
    "def representative_value(df: pd.DataFrame):\n",
    "    df = df.describe()\n",
    "    df = df.reset_index(level=0)\n",
    "    df.rename(columns={\n",
    "        'index': '기준열'\n",
    "    }, inplace=True)\n",
    "    return df"
   ],
   "metadata": {
    "collapsed": false,
    "pycharm": {
     "name": "#%%\n"
    }
   }
  },
  {
   "cell_type": "markdown",
   "source": [
    "## quantile / 사분위수\n",
    "> 4분위수(quartile)란, 데이터를 4개의 집단으로 나누는 것을 의미합니다. 4분위수는 아래와 같은 4가지로 나뉩니다.\n",
    "  첫번째 사분위수 (Q1) : 데이터의 25%\n",
    "  두번째 사분위수 (Q2) : 데이터의 50% (이를 중앙값이라고 합니다)\n",
    "  세번째 사분위수 (Q3) : 데이터의 75%\n",
    "  네번째 사분위수 (Q4) : 데이터의 100%\n",
    "\n",
    "- 구성\n",
    "    - quantile 실행함수"
   ],
   "metadata": {
    "collapsed": false,
    "pycharm": {
     "name": "#%% md\n"
    }
   }
  },
  {
   "cell_type": "code",
   "execution_count": 35,
   "outputs": [],
   "source": [
    "# quantile 실행함수\n",
    "\n",
    "def rename(newname):\n",
    "    def decorator(f):\n",
    "        f.__name__ = newname\n",
    "        return f\n",
    "\n",
    "    return decorator\n",
    "\n",
    "\n",
    "def q_at(target, y):\n",
    "    @rename(f'{target}_Q{y}')\n",
    "    def q(x):\n",
    "        return x.quantile(float(f\"0.{y}\"))\n",
    "\n",
    "    return q\n",
    "\n",
    "\n",
    "def quantile(df: pd.DataFrame):\n",
    "    by, target, rate = \"기준\", \"값(숫자)\", 25\n",
    "    quantile_list = []\n",
    "    for percent in range(0, 101, int(rate)):\n",
    "        quantile_list.append(q_at(target, percent))\n",
    "    df = df.groupby(by).agg(quantile_list).reset_index(col_level=1)\n",
    "    df.columns = df.columns.droplevel(level=0)\n",
    "    df.rename(columns={\n",
    "        '기준': '기준열', '값(숫자)_Q0': \"최솟값\", '값(숫자)_Q25': \"1사분위\",\n",
    "        '값(숫자)_Q50': '중앙값', '값(숫자)_Q75': '3사분위', '값(숫자)_Q100': '최댓값'\n",
    "    }, inplace=True)\n",
    "    return df"
   ],
   "metadata": {
    "collapsed": false,
    "pycharm": {
     "name": "#%%\n"
    }
   }
  },
  {
   "cell_type": "markdown",
   "source": [
    "## outlier / 이상치\n",
    "> iqr(interquartile range) 이상치는 통계학에서 사용되는 개념입니다. 이는 데이터의 사분위수(quartile)를 기반으로 하여 이상치를 검출하는 방법입니다.\n",
    "\n",
    "- 구성\n",
    "    - outlier 실행함수"
   ],
   "metadata": {
    "collapsed": false,
    "pycharm": {
     "name": "#%% md\n"
    }
   }
  },
  {
   "cell_type": "code",
   "execution_count": 36,
   "outputs": [],
   "source": [
    "# outlier 실행함수\n",
    "\n",
    "def outlier(df: pd.DataFrame):\n",
    "    group_by, target = \"기준\", \"값(숫자)\"\n",
    "    target_type = type_mapping(df[\"값(숫자)\"].dtype)\n",
    "\n",
    "    q3 = df[target].quantile(0.75)\n",
    "    q1 = df[target].quantile(0.25)\n",
    "    iqr = q3 - q1\n",
    "\n",
    "    def iqr_outlier(df):\n",
    "        if df[target] > q3 + 1.5 * iqr or df[target] < q1 - 1.5 * iqr:\n",
    "            return df[target]\n",
    "        else:\n",
    "            return None\n",
    "\n",
    "    df['이상치'] = df.apply(iqr_outlier, axis=1)\n",
    "    df.rename(columns={\n",
    "        '기준': '범주', '값(숫자)': \"값\"\n",
    "    }, inplace=True)\n",
    "    df = df.replace({np.nan: None})\n",
    "    res = []\n",
    "    for i in df.values.tolist():\n",
    "        tmp = []\n",
    "        for j in i:\n",
    "            if j is pd.NA:\n",
    "                tmp.append(None)\n",
    "            else:\n",
    "                tmp.append(j)\n",
    "        res.append(tmp)\n",
    "    return {\n",
    "        \"fields\": [\n",
    "            {\"name\": \"범주\", \"type\": \"TEXT\"},\n",
    "            {\"name\": \"값\", \"type\": target_type},\n",
    "            {\"name\": \"이상치\", \"type\": target_type}],\n",
    "        \"results\": res,\n",
    "        \"message\": None\n",
    "    }"
   ],
   "metadata": {
    "collapsed": false,
    "pycharm": {
     "name": "#%%\n"
    }
   }
  },
  {
   "cell_type": "markdown",
   "source": [
    "## scatterplot / 산점도\n",
    "> DataFrame 객체에서 x, y 열을 지정하여 산점도(Scatter Plot)를 그릴 수 있는 기능입니다.\n",
    "\n",
    "- 구성\n",
    "    -  scatterplot 실행함수"
   ],
   "metadata": {
    "collapsed": false,
    "pycharm": {
     "name": "#%% md\n"
    }
   }
  },
  {
   "cell_type": "code",
   "execution_count": 37,
   "outputs": [],
   "source": [
    "# scatterplot 실행함수\n",
    "\n",
    "def scatterplot(df: pd.DataFrame):\n",
    "    df.rename(columns={\n",
    "        '값(숫자)': '값'\n",
    "    }, inplace=True)\n",
    "    return df"
   ],
   "metadata": {
    "collapsed": false,
    "pycharm": {
     "name": "#%%\n"
    }
   }
  },
  {
   "cell_type": "markdown",
   "source": [
    "## corr / 상관관계\n",
    ">  상관관계 분석은 Pearson 상관계수를 계산합니다.\n",
    "\n",
    "- 구성\n",
    "    - corr 실행함수"
   ],
   "metadata": {
    "collapsed": false,
    "pycharm": {
     "name": "#%% md\n"
    }
   }
  },
  {
   "cell_type": "code",
   "execution_count": 38,
   "outputs": [],
   "source": [
    "# corr 실행함수\n",
    "\n",
    "def corr(df: pd.DataFrame):\n",
    "    df = df.corr(method='pearson')\n",
    "    df = df.reset_index(level=0)\n",
    "    df.rename(columns={\n",
    "        'index': 'X'\n",
    "    }, inplace=True)\n",
    "    df = df.replace({np.nan: None})\n",
    "\n",
    "    res = []\n",
    "    for i in df.values.tolist():\n",
    "        tmp = []\n",
    "        for j in i:\n",
    "            if isinstance(j, float):\n",
    "                tmp.append(round(j, 3))\n",
    "            else:\n",
    "                tmp.append(j)\n",
    "        res.append(tmp)\n",
    "    return {\n",
    "        \"fields\": [{\"name\": a[0], \"type\": type_mapping(a[1])}\n",
    "                   for a in zip(df.columns.tolist(), df.dtypes.apply(lambda x: x.name).to_list())],\n",
    "        \"results\": res,\n",
    "        \"message\": None\n",
    "    }"
   ],
   "metadata": {
    "collapsed": false,
    "pycharm": {
     "name": "#%%\n"
    }
   }
  },
  {
   "cell_type": "markdown",
   "source": [
    "# 함수 시연\n",
    "## representative_value / 대푯값"
   ],
   "metadata": {
    "collapsed": false,
    "pycharm": {
     "name": "#%% md\n"
    }
   }
  },
  {
   "cell_type": "code",
   "execution_count": 39,
   "outputs": [
    {
     "name": "stdout",
     "output_type": "stream",
     "text": [
      "{'fields': [{'name': '기준열', 'type': 'TEXT'}, {'name': '값1(숫자)', 'type': 'REAL'}, {'name': '값2(숫자)', 'type': 'REAL'}, {'name': '값3(숫자)', 'type': 'REAL'}, {'name': '값4(숫자)', 'type': 'REAL'}, {'name': '값5(숫자)', 'type': 'REAL'}], 'results': [['count', 4.0, 4.0, 4.0, 4.0, 4.0], ['mean', 4.824999999999999, 3.1999999999999997, 1.4, 0.2, 0.2], ['std', 0.22173557826083448, 0.21602468994692867, 0.08164965809277258, 0.0, 0.0], ['min', 4.6, 3.0, 1.3, 0.2, 0.2], ['25%', 4.675, 3.075, 1.375, 0.2, 0.2], ['50%', 4.800000000000001, 3.1500000000000004, 1.4, 0.2, 0.2], ['75%', 4.95, 3.2750000000000004, 1.4249999999999998, 0.2, 0.2], ['max', 5.1, 3.5, 1.5, 0.2, 0.2]]}\n"
     ]
    }
   ],
   "source": [
    "column = [\n",
    "    \"값1(숫자)\", \"값2(숫자)\", \"값3(숫자)\", \"값4(숫자)\", \"값5(숫자)\"\n",
    "]\n",
    "value = [\n",
    "[5.1,\t3.5,\t1.4,\t0.2,\t0.2],\n",
    "[4.9,\t3.0,\t1.4,\t0.2,\t0.2],\n",
    "[4.7,\t3.2,\t1.3,\t0.2,\t0.2],\n",
    "[4.6,\t3.1,\t1.5,\t0.2,\t0.2]\n",
    "]\n",
    "\n",
    "test_df = pd.DataFrame(value, columns=column)\n",
    "result = representative_value(test_df)\n",
    "print(parse_df(result))"
   ],
   "metadata": {
    "collapsed": false,
    "pycharm": {
     "name": "#%%\n"
    }
   }
  },
  {
   "cell_type": "markdown",
   "source": [
    "## quantile / 사분위수"
   ],
   "metadata": {
    "collapsed": false,
    "pycharm": {
     "name": "#%% md\n"
    }
   }
  },
  {
   "cell_type": "code",
   "execution_count": 40,
   "outputs": [
    {
     "name": "stdout",
     "output_type": "stream",
     "text": [
      "{'fields': [{'name': '기준열', 'type': 'TEXT'}, {'name': '최솟값', 'type': 'REAL'}, {'name': '1사분위', 'type': 'REAL'}, {'name': '중앙값', 'type': 'REAL'}, {'name': '3사분위', 'type': 'REAL'}, {'name': '최댓값', 'type': 'REAL'}], 'results': [['금', 2556.0, 2556.0, 2556.0, 2556.0, 2556.0], ['목', 2103.0, 2103.0, 2103.0, 2103.0, 2103.0], ['수', 2255.0, 2255.0, 2255.0, 2255.0, 2255.0], ['월', 1978.0, 1978.0, 1978.0, 1978.0, 1978.0], ['일', 1598.0, 1598.0, 1598.0, 1598.0, 1598.0], ['토', 2387.0, 2387.0, 2387.0, 2387.0, 2387.0], ['화', 2032.0, 2032.0, 2032.0, 2032.0, 2032.0]]}\n"
     ]
    }
   ],
   "source": [
    "column = [\n",
    "    \"기준\", \"값(숫자)\"\n",
    "]\n",
    "value = [\n",
    "[\"일\", 1598],\n",
    "[\"월\", 1978],\n",
    "[\"화\", 2032],\n",
    "[\"수\", 2255],\n",
    "[\"목\", 2103],\n",
    "[\"금\", 2556],\n",
    "[\"토\", 2387],\n",
    "]\n",
    "\n",
    "test_df = pd.DataFrame(value, columns=column)\n",
    "result = quantile(test_df)\n",
    "print(parse_df(result))"
   ],
   "metadata": {
    "collapsed": false,
    "pycharm": {
     "name": "#%%\n"
    }
   }
  },
  {
   "cell_type": "markdown",
   "source": [
    "## outlier / 이상치"
   ],
   "metadata": {
    "collapsed": false,
    "pycharm": {
     "name": "#%% md\n"
    }
   }
  },
  {
   "cell_type": "code",
   "execution_count": 41,
   "outputs": [
    {
     "name": "stdout",
     "output_type": "stream",
     "text": [
      "{'fields': [{'name': '범주', 'type': 'TEXT'}, {'name': '값', 'type': 'INTEGER'}, {'name': '이상치', 'type': 'INTEGER'}], 'results': [['일', 1598, None], ['월', 12, 12.0], ['화', 2032, None], ['수', 2255, None], ['목', 2103, None], ['금', 4000, 4000.0], ['토', 2387, None]], 'message': None}\n"
     ]
    }
   ],
   "source": [
    "column = [\n",
    "    \"기준\", \"값(숫자)\"\n",
    "]\n",
    "value = [\n",
    "[\"일\", 1598],\n",
    "[\"월\", 12],\n",
    "[\"화\", 2032],\n",
    "[\"수\", 2255],\n",
    "[\"목\", 2103],\n",
    "[\"금\", 4000],\n",
    "[\"토\", 2387],\n",
    "]\n",
    "\n",
    "test_df = pd.DataFrame(value, columns=column)\n",
    "result = outlier(test_df)\n",
    "print(result)\n"
   ],
   "metadata": {
    "collapsed": false,
    "pycharm": {
     "name": "#%%\n"
    }
   }
  },
  {
   "cell_type": "markdown",
   "source": [
    "## scatterplot / 산점도"
   ],
   "metadata": {
    "collapsed": false,
    "pycharm": {
     "name": "#%% md\n"
    }
   }
  },
  {
   "cell_type": "code",
   "execution_count": 42,
   "outputs": [
    {
     "name": "stdout",
     "output_type": "stream",
     "text": [
      "{'fields': [{'name': '범주', 'type': 'INTEGER'}, {'name': '값', 'type': 'INTEGER'}], 'results': [[1807, 114], [2035, 162], [2097, 156], [2342, 185], [2199, 161], [2804, 177], [2857, 179], [1768, 140]]}\n"
     ]
    }
   ],
   "source": [
    "column = [\n",
    "    \"범주\", \"값(숫자)\"\n",
    "]\n",
    "value = [\n",
    "[1807,\t114],\n",
    "[2035,\t162],\n",
    "[2097,\t156],\n",
    "[2342,\t185],\n",
    "[2199,\t161],\n",
    "[2804,\t177],\n",
    "[2857,\t179],\n",
    "[1768,\t140]\n",
    "]\n",
    "\n",
    "test_df = pd.DataFrame(value, columns=column)\n",
    "result = scatterplot(test_df)\n",
    "print(parse_df(result))"
   ],
   "metadata": {
    "collapsed": false,
    "pycharm": {
     "name": "#%%\n"
    }
   }
  },
  {
   "cell_type": "markdown",
   "source": [
    "## scatterplot / 산점도"
   ],
   "metadata": {
    "collapsed": false,
    "pycharm": {
     "name": "#%% md\n"
    }
   }
  },
  {
   "cell_type": "code",
   "execution_count": 43,
   "outputs": [
    {
     "name": "stdout",
     "output_type": "stream",
     "text": [
      "{'fields': [{'name': 'X', 'type': 'TEXT'}, {'name': '값1(숫자)', 'type': 'TEXT'}, {'name': '값2(숫자)', 'type': 'TEXT'}, {'name': '값3(숫자)', 'type': 'TEXT'}, {'name': '값4(숫자)', 'type': 'TEXT'}, {'name': '값5(숫자)', 'type': 'TEXT'}], 'results': [['값1(숫자)', 1.0, 0.626, -0.184, None, None], ['값2(숫자)', 0.626, 1.0, -0.189, None, None], ['값3(숫자)', -0.184, -0.189, 1.0, None, None], ['값4(숫자)', None, None, None, None, None], ['값5(숫자)', None, None, None, None, None]], 'message': None}\n"
     ]
    }
   ],
   "source": [
    "column = [\n",
    "    \"값1(숫자)\", \"값2(숫자)\", \"값3(숫자)\", \"값4(숫자)\", \"값5(숫자)\"\n",
    "]\n",
    "value = [\n",
    "[5.1,\t3.5,\t1.4,\t0.2,\t0.2],\n",
    "[4.9,\t3.0,\t1.4,\t0.2,\t0.2],\n",
    "[4.7,\t3.2,\t1.3,\t0.2,\t0.2],\n",
    "[4.6,\t3.1,\t1.5,\t0.2,\t0.2]\n",
    "]\n",
    "\n",
    "test_df = pd.DataFrame(value, columns=column)\n",
    "result = corr(test_df)\n",
    "print(result)"
   ],
   "metadata": {
    "collapsed": false,
    "pycharm": {
     "name": "#%%\n"
    }
   }
  }
 ],
 "metadata": {
  "kernelspec": {
   "display_name": "Python 3",
   "language": "python",
   "name": "python3"
  },
  "language_info": {
   "codemirror_mode": {
    "name": "ipython",
    "version": 2
   },
   "file_extension": ".py",
   "mimetype": "text/x-python",
   "name": "python",
   "nbconvert_exporter": "python",
   "pygments_lexer": "ipython2",
   "version": "2.7.6"
  }
 },
 "nbformat": 4,
 "nbformat_minor": 0
}