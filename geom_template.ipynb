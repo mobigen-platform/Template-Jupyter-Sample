{
 "cells": [
  {
   "cell_type": "markdown",
   "source": [
    "# 공간 분석\n",
    "> 공간 분석이란 지리공간정보를 데이터로 변환하여 특정 위치나 공간의 특징을 시각적으로 분석해내는 기법을 의미합니다.\n",
    "\n",
    "## 목차\n",
    "- import Base code\n",
    "    - polygon / 폴리곤\n",
    "    - heatmap / 히트맵\n",
    "    - marker(point) / 마커(포인트)\n",
    "    - bubble / 버블\n",
    "- 함수 시연\n",
    "    - polygon / 폴리곤\n",
    "    - heatmap / 히트맵\n",
    "    - marker(point) / 마커(포인트)\n",
    "    - bubble / 버블"
   ],
   "metadata": {
    "collapsed": false,
    "pycharm": {
     "name": "#%% md\n"
    }
   }
  },
  {
   "cell_type": "markdown",
   "source": [
    "## import Base code"
   ],
   "metadata": {
    "collapsed": false,
    "pycharm": {
     "name": "#%% md\n"
    }
   }
  },
  {
   "cell_type": "markdown",
   "source": [],
   "metadata": {
    "collapsed": false,
    "pycharm": {
     "name": "#%% md\n"
    }
   }
  },
  {
   "cell_type": "code",
   "execution_count": null,
   "outputs": [],
   "source": [
    "! pip install geom==1.1"
   ],
   "metadata": {
    "collapsed": false,
    "pycharm": {
     "name": "#%%\n"
    }
   }
  },
  {
   "cell_type": "code",
   "execution_count": 2,
   "outputs": [
    {
     "ename": "ModuleNotFoundError",
     "evalue": "No module named 'Geom'",
     "output_type": "error",
     "traceback": [
      "\u001B[0;31m---------------------------------------------------------------------------\u001B[0m",
      "\u001B[0;31mModuleNotFoundError\u001B[0m                       Traceback (most recent call last)",
      "Cell \u001B[0;32mIn[2], line 5\u001B[0m\n\u001B[1;32m      2\u001B[0m \u001B[38;5;28;01mimport\u001B[39;00m \u001B[38;5;21;01mpandas\u001B[39;00m \u001B[38;5;28;01mas\u001B[39;00m \u001B[38;5;21;01mpd\u001B[39;00m\n\u001B[1;32m      3\u001B[0m \u001B[38;5;28;01mimport\u001B[39;00m \u001B[38;5;21;01mshapely\u001B[39;00m\u001B[38;5;21;01m.\u001B[39;00m\u001B[38;5;21;01mgeometry\u001B[39;00m\n\u001B[0;32m----> 5\u001B[0m \u001B[38;5;28;01mfrom\u001B[39;00m \u001B[38;5;21;01mGeom\u001B[39;00m \u001B[38;5;28;01mimport\u001B[39;00m search\n\u001B[1;32m      7\u001B[0m \u001B[38;5;28;01mdef\u001B[39;00m \u001B[38;5;21mgeojson2centroid\u001B[39m(df):\n\u001B[1;32m      8\u001B[0m     result \u001B[38;5;241m=\u001B[39m []\n",
      "\u001B[0;31mModuleNotFoundError\u001B[0m: No module named 'Geom'"
     ]
    }
   ],
   "source": [
    "import json\n",
    "import pandas as pd\n",
    "import shapely.geometry\n",
    "\n",
    "from Geom import search\n",
    "\n",
    "def geojson2centroid(df):\n",
    "    result = []\n",
    "    for row in df.values.tolist():\n",
    "        juso_code = search.juso_to_code(sido=row[1], sgg=row[2], emd=row[3])\n",
    "        geojson = search.code_to_geom(juso_code=str(juso_code))\n",
    "        result.append([\n",
    "            row[0],\n",
    "            shapely.geometry.shape(json.loads(geojson)).centroid.x,\n",
    "            shapely.geometry.shape(json.loads(geojson)).centroid.y,\n",
    "            row[4]]\n",
    "        )\n",
    "    return result"
   ],
   "metadata": {
    "collapsed": false,
    "pycharm": {
     "name": "#%%\n"
    }
   }
  },
  {
   "cell_type": "markdown",
   "source": [],
   "metadata": {
    "collapsed": false,
    "pycharm": {
     "name": "#%% md\n"
    }
   }
  },
  {
   "cell_type": "markdown",
   "source": [
    "## polygon / 폴리곤\n",
    "> 폴리곤이란 지리공간정보를 지도 위에 표시하는 방식 중 하나로, 지도 위에 특정 포인트를 연결하여 생성한 다각형을 의미합니다.\n",
    "지도 위에서 특정 포인트를 연결하는 것은 선분으로 나타납니다. 특정 범주에 속하는 인위적인 영역을 묶음 지어 표현하고자 할 때 주로 사용됩니다.\n",
    "\n",
    "- 구성\n",
    "    -  polygon 실행함수"
   ],
   "metadata": {
    "collapsed": false,
    "pycharm": {
     "name": "#%% md\n"
    }
   }
  },
  {
   "cell_type": "code",
   "execution_count": 3,
   "outputs": [],
   "source": [
    "# polygon 실행함수\n",
    "\n",
    "def polygon(df: pd.DataFrame, geom_type):\n",
    "    if geom_type == \"주소\":\n",
    "        result = []\n",
    "        for row in df.values.tolist():\n",
    "            juso_code = search.juso_to_code(sido=row[1], sgg=row[2], emd=row[3])\n",
    "            geojson = search.code_to_geom(juso_code=str(juso_code))\n",
    "            result.append([row[0], geojson, row[4]])\n",
    "\n",
    "        df = pd.DataFrame(\n",
    "            data=result,\n",
    "            columns=[\"LABEL\", \"GEOJSON\", \"COUNT\"]\n",
    "        )\n",
    "    else:  # 위경도\n",
    "        result = []\n",
    "        for row in df.values.tolist():\n",
    "            result.append([row[0], f'{{\"type\":\"Point\",\"coordinates\":({row[1]}, {row[2]})}}', row[3]])\n",
    "\n",
    "        df = pd.DataFrame(\n",
    "            data=[],\n",
    "            columns=[\"LABEL\", \"GEOJSON\", \"COUNT\"]\n",
    "        )\n",
    "    return df"
   ],
   "metadata": {
    "collapsed": false,
    "pycharm": {
     "name": "#%%\n"
    }
   }
  },
  {
   "cell_type": "markdown",
   "source": [
    "## heatmap / 히트맵\n",
    "> 히트맵이란 지리공간정보를 지도 위에 표시하는 방식 중 하나로, Heat(열)와 Map(지도)의 합성어를 뜻합니다.\n",
    "\n",
    "- 구성\n",
    "    -  heatmap 실행함수"
   ],
   "metadata": {
    "collapsed": false,
    "pycharm": {
     "name": "#%% md\n"
    }
   }
  },
  {
   "cell_type": "code",
   "execution_count": 4,
   "outputs": [],
   "source": [
    "# heatmap 실행함수\n",
    "\n",
    "def heatmap(df: pd.DataFrame, geom_type):\n",
    "    if geom_type == \"주소\":\n",
    "        result = geojson2centroid(df)\n",
    "        df = pd.DataFrame(\n",
    "            data=result,\n",
    "            columns=[\"LABEL\", \"LAT\", \"LON\", \"COUNT\"]\n",
    "        )\n",
    "    else:  # 위경도\n",
    "        df.rename(columns={\n",
    "            '라벨': 'LABEL', '위도': 'LAT', '경도': 'LON', '값(숫자)': 'COUNT'\n",
    "        }, inplace=True)\n",
    "    return df"
   ],
   "metadata": {
    "collapsed": false,
    "pycharm": {
     "name": "#%%\n"
    }
   }
  },
  {
   "cell_type": "markdown",
   "source": [
    "## marker(point) / 마커(포인트)\n",
    "> 마커란 지리공간정보를 지도 위에 표시하는 방식 중 하나로, 정해진 특정 포인트를 시각적으로 표현해내는 시각화 방법을 의미합니다.\n",
    "\n",
    "- 구성\n",
    "    -  marker(point) 실행함수"
   ],
   "metadata": {
    "collapsed": false,
    "pycharm": {
     "name": "#%% md\n"
    }
   }
  },
  {
   "cell_type": "code",
   "execution_count": 5,
   "outputs": [],
   "source": [
    "# marker(point) 실행함수\n",
    "\n",
    "def point(df: pd.DataFrame, geom_type):\n",
    "    if geom_type == \"주소\":\n",
    "        result = geojson2centroid(df)\n",
    "        df = pd.DataFrame(\n",
    "            data=result,\n",
    "            columns=[\"LABEL\", \"LAT\", \"LON\", \"COUNT\"]\n",
    "        )\n",
    "    else:  # 위경도\n",
    "        df.rename(columns={\n",
    "            '라벨': 'LABEL', '위도': 'LAT', '경도': 'LON', '값(숫자)': 'COUNT'\n",
    "        }, inplace=True)\n",
    "    return df"
   ],
   "metadata": {
    "collapsed": false,
    "pycharm": {
     "name": "#%%\n"
    }
   }
  },
  {
   "cell_type": "markdown",
   "source": [
    "## bubble / 버블\n",
    "> 버블이란 지리공간정보를 지도 위에 표시하는 방식 중 하나로, 위도 및 경도로 기록된 지도 상의 위치에 특정 컬러로 칠해진 원형 도형을 통해 해당 위치에서의 측정값을 시각적으로 표현합니다.\n",
    "\n",
    "- 구성\n",
    "    -  bubble 실행함수"
   ],
   "metadata": {
    "collapsed": false,
    "pycharm": {
     "name": "#%% md\n"
    }
   }
  },
  {
   "cell_type": "code",
   "execution_count": 6,
   "outputs": [],
   "source": [
    "# bubble 실행함수\n",
    "\n",
    "def bubble(df: pd.DataFrame, geom_type):\n",
    "    if geom_type == \"주소\":\n",
    "        result = geojson2centroid(df)\n",
    "        df = pd.DataFrame(\n",
    "            data=result,\n",
    "            columns=[\"LABEL\", \"LAT\", \"LON\", \"COUNT\"]\n",
    "        )\n",
    "    else:  # 위경도\n",
    "        df.rename(columns={\n",
    "            '라벨': 'LABEL', '위도': 'LAT', '경도': 'LON', '값(숫자)': 'COUNT'\n",
    "        }, inplace=True)\n",
    "    return df"
   ],
   "metadata": {
    "collapsed": false,
    "pycharm": {
     "name": "#%%\n"
    }
   }
  },
  {
   "cell_type": "markdown",
   "source": [
    "# 함수 시연\n",
    "## polygon / 폴리곤"
   ],
   "metadata": {
    "collapsed": false,
    "pycharm": {
     "name": "#%% md\n"
    }
   }
  },
  {
   "cell_type": "code",
   "execution_count": 7,
   "outputs": [
    {
     "ename": "NameError",
     "evalue": "name 'search' is not defined",
     "output_type": "error",
     "traceback": [
      "\u001B[0;31m---------------------------------------------------------------------------\u001B[0m",
      "\u001B[0;31mNameError\u001B[0m                                 Traceback (most recent call last)",
      "Cell \u001B[0;32mIn[7], line 25\u001B[0m\n\u001B[1;32m     15\u001B[0m value \u001B[38;5;241m=\u001B[39m [\n\u001B[1;32m     16\u001B[0m [\u001B[38;5;124m\"\u001B[39m\u001B[38;5;124m인천국제공항\u001B[39m\u001B[38;5;124m\"\u001B[39m,\t\u001B[38;5;241m337.4625\u001B[39m,\t\u001B[38;5;241m126.439167\u001B[39m,\t\u001B[38;5;241m14928\u001B[39m],\n\u001B[1;32m     17\u001B[0m [\u001B[38;5;124m\"\u001B[39m\u001B[38;5;124m김포국제공항\u001B[39m\u001B[38;5;124m\"\u001B[39m,\t\u001B[38;5;241m37.558056\u001B[39m,\t\u001B[38;5;241m126.790556\u001B[39m,\t\u001B[38;5;241m11568\u001B[39m],\n\u001B[1;32m     18\u001B[0m [\u001B[38;5;124m\"\u001B[39m\u001B[38;5;124m제주국제공항\u001B[39m\u001B[38;5;124m\"\u001B[39m,\t\u001B[38;5;241m33.511111\u001B[39m,\t\u001B[38;5;241m126.492778\u001B[39m,\t\u001B[38;5;241m13661\u001B[39m],\n\u001B[1;32m     19\u001B[0m [\u001B[38;5;124m\"\u001B[39m\u001B[38;5;124m김해국제공항\u001B[39m\u001B[38;5;124m\"\u001B[39m,\t\u001B[38;5;241m35.179444\u001B[39m,\t\u001B[38;5;241m128.938056\u001B[39m,\t\u001B[38;5;241m4626\u001B[39m]\n\u001B[1;32m     20\u001B[0m ]\n\u001B[1;32m     22\u001B[0m latlon_df \u001B[38;5;241m=\u001B[39m pd\u001B[38;5;241m.\u001B[39mDataFrame(value, columns\u001B[38;5;241m=\u001B[39mcolumn)\n\u001B[0;32m---> 25\u001B[0m address_polygon_df \u001B[38;5;241m=\u001B[39m \u001B[43mpolygon\u001B[49m\u001B[43m(\u001B[49m\u001B[43maddress_df\u001B[49m\u001B[43m,\u001B[49m\u001B[43m \u001B[49m\u001B[38;5;124;43m\"\u001B[39;49m\u001B[38;5;124;43m주소\u001B[39;49m\u001B[38;5;124;43m\"\u001B[39;49m\u001B[43m)\u001B[49m\n\u001B[1;32m     26\u001B[0m latlon_polygon_df \u001B[38;5;241m=\u001B[39m polygon(latlon_df, \u001B[38;5;124m\"\u001B[39m\u001B[38;5;124m위경도\u001B[39m\u001B[38;5;124m\"\u001B[39m)\n\u001B[1;32m     27\u001B[0m \u001B[38;5;28mprint\u001B[39m(address_polygon_df)\n",
      "Cell \u001B[0;32mIn[3], line 5\u001B[0m, in \u001B[0;36mpolygon\u001B[0;34m(df, geom_type)\u001B[0m\n\u001B[1;32m      3\u001B[0m result \u001B[38;5;241m=\u001B[39m []\n\u001B[1;32m      4\u001B[0m \u001B[38;5;28;01mfor\u001B[39;00m row \u001B[38;5;129;01min\u001B[39;00m df\u001B[38;5;241m.\u001B[39mvalues\u001B[38;5;241m.\u001B[39mtolist():\n\u001B[0;32m----> 5\u001B[0m     juso_code \u001B[38;5;241m=\u001B[39m \u001B[43msearch\u001B[49m\u001B[38;5;241m.\u001B[39mjuso_to_code(sido\u001B[38;5;241m=\u001B[39mrow[\u001B[38;5;241m1\u001B[39m], sgg\u001B[38;5;241m=\u001B[39mrow[\u001B[38;5;241m2\u001B[39m], emd\u001B[38;5;241m=\u001B[39mrow[\u001B[38;5;241m3\u001B[39m])\n\u001B[1;32m      6\u001B[0m     geojson \u001B[38;5;241m=\u001B[39m search\u001B[38;5;241m.\u001B[39mcode_to_geom(juso_code\u001B[38;5;241m=\u001B[39m\u001B[38;5;28mstr\u001B[39m(juso_code))\n\u001B[1;32m      7\u001B[0m     result\u001B[38;5;241m.\u001B[39mappend([row[\u001B[38;5;241m0\u001B[39m], geojson, row[\u001B[38;5;241m4\u001B[39m]])\n",
      "\u001B[0;31mNameError\u001B[0m: name 'search' is not defined"
     ]
    }
   ],
   "source": [
    "column = [\n",
    "    \"라벨\",\t\"주소_시도명\",\t\"주소_시군구명\",\t\"주소_읍면동명\",\t\"가중치(숫자)\"\n",
    "]\n",
    "value = [\n",
    "[\"A\",\t\"경상남도\",\t\"거창군\",\t\"신원면\",\t1498],\n",
    "[\"B\",\t\"전라남도\",\t\"고흥군\",\t\"도화면\",\t4411],\n",
    "[\"C\",\t\"대전광역시\",\t\"서구\",\t\"복수동\",\t8801]\n",
    "]\n",
    "\n",
    "address_df = pd.DataFrame(value, columns=column)\n",
    "\n",
    "column = [\n",
    "    \"라벨\",\t\"위도\",\t\"경도\",\t\"가중치(숫자)\"\n",
    "]\n",
    "value = [\n",
    "[\"인천국제공항\",\t337.4625,\t126.439167,\t14928],\n",
    "[\"김포국제공항\",\t37.558056,\t126.790556,\t11568],\n",
    "[\"제주국제공항\",\t33.511111,\t126.492778,\t13661],\n",
    "[\"김해국제공항\",\t35.179444,\t128.938056,\t4626]\n",
    "]\n",
    "\n",
    "latlon_df = pd.DataFrame(value, columns=column)\n",
    "\n",
    "\n",
    "address_polygon_df = polygon(address_df, \"주소\")\n",
    "latlon_polygon_df = polygon(latlon_df, \"위경도\")\n",
    "print(address_polygon_df)\n",
    "print(latlon_polygon_df)"
   ],
   "metadata": {
    "collapsed": false,
    "pycharm": {
     "name": "#%%\n"
    }
   }
  },
  {
   "cell_type": "markdown",
   "source": [
    "## heatmap / 히트맵"
   ],
   "metadata": {
    "collapsed": false,
    "pycharm": {
     "name": "#%% md\n"
    }
   }
  },
  {
   "cell_type": "code",
   "execution_count": 8,
   "outputs": [
    {
     "ename": "NameError",
     "evalue": "name 'geojson2centroid' is not defined",
     "output_type": "error",
     "traceback": [
      "\u001B[0;31m---------------------------------------------------------------------------\u001B[0m",
      "\u001B[0;31mNameError\u001B[0m                                 Traceback (most recent call last)",
      "Cell \u001B[0;32mIn[8], line 25\u001B[0m\n\u001B[1;32m     15\u001B[0m value \u001B[38;5;241m=\u001B[39m [\n\u001B[1;32m     16\u001B[0m [\u001B[38;5;124m\"\u001B[39m\u001B[38;5;124m인천국제공항\u001B[39m\u001B[38;5;124m\"\u001B[39m,\t\u001B[38;5;241m337.4625\u001B[39m,\t\u001B[38;5;241m126.439167\u001B[39m,\t\u001B[38;5;241m14928\u001B[39m],\n\u001B[1;32m     17\u001B[0m [\u001B[38;5;124m\"\u001B[39m\u001B[38;5;124m김포국제공항\u001B[39m\u001B[38;5;124m\"\u001B[39m,\t\u001B[38;5;241m37.558056\u001B[39m,\t\u001B[38;5;241m126.790556\u001B[39m,\t\u001B[38;5;241m11568\u001B[39m],\n\u001B[1;32m     18\u001B[0m [\u001B[38;5;124m\"\u001B[39m\u001B[38;5;124m제주국제공항\u001B[39m\u001B[38;5;124m\"\u001B[39m,\t\u001B[38;5;241m33.511111\u001B[39m,\t\u001B[38;5;241m126.492778\u001B[39m,\t\u001B[38;5;241m13661\u001B[39m],\n\u001B[1;32m     19\u001B[0m [\u001B[38;5;124m\"\u001B[39m\u001B[38;5;124m김해국제공항\u001B[39m\u001B[38;5;124m\"\u001B[39m,\t\u001B[38;5;241m35.179444\u001B[39m,\t\u001B[38;5;241m128.938056\u001B[39m,\t\u001B[38;5;241m4626\u001B[39m]\n\u001B[1;32m     20\u001B[0m ]\n\u001B[1;32m     22\u001B[0m latlon_df \u001B[38;5;241m=\u001B[39m pd\u001B[38;5;241m.\u001B[39mDataFrame(value, columns\u001B[38;5;241m=\u001B[39mcolumn)\n\u001B[0;32m---> 25\u001B[0m address_polygon_df \u001B[38;5;241m=\u001B[39m \u001B[43mheatmap\u001B[49m\u001B[43m(\u001B[49m\u001B[43maddress_df\u001B[49m\u001B[43m,\u001B[49m\u001B[43m \u001B[49m\u001B[38;5;124;43m\"\u001B[39;49m\u001B[38;5;124;43m주소\u001B[39;49m\u001B[38;5;124;43m\"\u001B[39;49m\u001B[43m)\u001B[49m\n\u001B[1;32m     26\u001B[0m latlon_polygon_df \u001B[38;5;241m=\u001B[39m heatmap(latlon_df, \u001B[38;5;124m\"\u001B[39m\u001B[38;5;124m위경도\u001B[39m\u001B[38;5;124m\"\u001B[39m)\n\u001B[1;32m     27\u001B[0m \u001B[38;5;28mprint\u001B[39m(address_polygon_df)\n",
      "Cell \u001B[0;32mIn[4], line 3\u001B[0m, in \u001B[0;36mheatmap\u001B[0;34m(df, geom_type)\u001B[0m\n\u001B[1;32m      1\u001B[0m \u001B[38;5;28;01mdef\u001B[39;00m \u001B[38;5;21mheatmap\u001B[39m(df: pd\u001B[38;5;241m.\u001B[39mDataFrame, geom_type):\n\u001B[1;32m      2\u001B[0m     \u001B[38;5;28;01mif\u001B[39;00m geom_type \u001B[38;5;241m==\u001B[39m \u001B[38;5;124m\"\u001B[39m\u001B[38;5;124m주소\u001B[39m\u001B[38;5;124m\"\u001B[39m:\n\u001B[0;32m----> 3\u001B[0m         result \u001B[38;5;241m=\u001B[39m \u001B[43mgeojson2centroid\u001B[49m(df)\n\u001B[1;32m      4\u001B[0m         df \u001B[38;5;241m=\u001B[39m pd\u001B[38;5;241m.\u001B[39mDataFrame(\n\u001B[1;32m      5\u001B[0m             data\u001B[38;5;241m=\u001B[39mresult,\n\u001B[1;32m      6\u001B[0m             columns\u001B[38;5;241m=\u001B[39m[\u001B[38;5;124m\"\u001B[39m\u001B[38;5;124mLABEL\u001B[39m\u001B[38;5;124m\"\u001B[39m, \u001B[38;5;124m\"\u001B[39m\u001B[38;5;124mLAT\u001B[39m\u001B[38;5;124m\"\u001B[39m, \u001B[38;5;124m\"\u001B[39m\u001B[38;5;124mLON\u001B[39m\u001B[38;5;124m\"\u001B[39m, \u001B[38;5;124m\"\u001B[39m\u001B[38;5;124mCOUNT\u001B[39m\u001B[38;5;124m\"\u001B[39m]\n\u001B[1;32m      7\u001B[0m         )\n\u001B[1;32m      8\u001B[0m     \u001B[38;5;28;01melse\u001B[39;00m:  \u001B[38;5;66;03m# 위경도\u001B[39;00m\n",
      "\u001B[0;31mNameError\u001B[0m: name 'geojson2centroid' is not defined"
     ]
    }
   ],
   "source": [
    "column = [\n",
    "    \"라벨\",\t\"주소_시도명\",\t\"주소_시군구명\",\t\"주소_읍면동명\",\t\"가중치(숫자)\"\n",
    "]\n",
    "value = [\n",
    "[\"A\",\t\"경상남도\",\t\"거창군\",\t\"신원면\",\t1498],\n",
    "[\"B\",\t\"전라남도\",\t\"고흥군\",\t\"도화면\",\t4411],\n",
    "[\"C\",\t\"대전광역시\",\t\"서구\",\t\"복수동\",\t8801]\n",
    "]\n",
    "\n",
    "address_df = pd.DataFrame(value, columns=column)\n",
    "\n",
    "column = [\n",
    "    \"라벨\",\t\"위도\",\t\"경도\",\t\"가중치(숫자)\"\n",
    "]\n",
    "value = [\n",
    "[\"인천국제공항\",\t337.4625,\t126.439167,\t14928],\n",
    "[\"김포국제공항\",\t37.558056,\t126.790556,\t11568],\n",
    "[\"제주국제공항\",\t33.511111,\t126.492778,\t13661],\n",
    "[\"김해국제공항\",\t35.179444,\t128.938056,\t4626]\n",
    "]\n",
    "\n",
    "latlon_df = pd.DataFrame(value, columns=column)\n",
    "\n",
    "\n",
    "address_polygon_df = heatmap(address_df, \"주소\")\n",
    "latlon_polygon_df = heatmap(latlon_df, \"위경도\")\n",
    "print(address_polygon_df)\n",
    "print(latlon_polygon_df)"
   ],
   "metadata": {
    "collapsed": false,
    "pycharm": {
     "name": "#%%\n"
    }
   }
  },
  {
   "cell_type": "markdown",
   "source": [
    "## marker(point) / 마커(포인트)"
   ],
   "metadata": {
    "collapsed": false,
    "pycharm": {
     "name": "#%% md\n"
    }
   }
  },
  {
   "cell_type": "code",
   "execution_count": 9,
   "outputs": [
    {
     "ename": "NameError",
     "evalue": "name 'geojson2centroid' is not defined",
     "output_type": "error",
     "traceback": [
      "\u001B[0;31m---------------------------------------------------------------------------\u001B[0m",
      "\u001B[0;31mNameError\u001B[0m                                 Traceback (most recent call last)",
      "Cell \u001B[0;32mIn[9], line 25\u001B[0m\n\u001B[1;32m     15\u001B[0m value \u001B[38;5;241m=\u001B[39m [\n\u001B[1;32m     16\u001B[0m [\u001B[38;5;124m\"\u001B[39m\u001B[38;5;124m인천국제공항\u001B[39m\u001B[38;5;124m\"\u001B[39m,\t\u001B[38;5;241m337.4625\u001B[39m,\t\u001B[38;5;241m126.439167\u001B[39m,\t\u001B[38;5;241m14928\u001B[39m],\n\u001B[1;32m     17\u001B[0m [\u001B[38;5;124m\"\u001B[39m\u001B[38;5;124m김포국제공항\u001B[39m\u001B[38;5;124m\"\u001B[39m,\t\u001B[38;5;241m37.558056\u001B[39m,\t\u001B[38;5;241m126.790556\u001B[39m,\t\u001B[38;5;241m11568\u001B[39m],\n\u001B[1;32m     18\u001B[0m [\u001B[38;5;124m\"\u001B[39m\u001B[38;5;124m제주국제공항\u001B[39m\u001B[38;5;124m\"\u001B[39m,\t\u001B[38;5;241m33.511111\u001B[39m,\t\u001B[38;5;241m126.492778\u001B[39m,\t\u001B[38;5;241m13661\u001B[39m],\n\u001B[1;32m     19\u001B[0m [\u001B[38;5;124m\"\u001B[39m\u001B[38;5;124m김해국제공항\u001B[39m\u001B[38;5;124m\"\u001B[39m,\t\u001B[38;5;241m35.179444\u001B[39m,\t\u001B[38;5;241m128.938056\u001B[39m,\t\u001B[38;5;241m4626\u001B[39m]\n\u001B[1;32m     20\u001B[0m ]\n\u001B[1;32m     22\u001B[0m latlon_df \u001B[38;5;241m=\u001B[39m pd\u001B[38;5;241m.\u001B[39mDataFrame(value, columns\u001B[38;5;241m=\u001B[39mcolumn)\n\u001B[0;32m---> 25\u001B[0m address_polygon_df \u001B[38;5;241m=\u001B[39m \u001B[43mpoint\u001B[49m\u001B[43m(\u001B[49m\u001B[43maddress_df\u001B[49m\u001B[43m,\u001B[49m\u001B[43m \u001B[49m\u001B[38;5;124;43m\"\u001B[39;49m\u001B[38;5;124;43m주소\u001B[39;49m\u001B[38;5;124;43m\"\u001B[39;49m\u001B[43m)\u001B[49m\n\u001B[1;32m     26\u001B[0m latlon_polygon_df \u001B[38;5;241m=\u001B[39m point(latlon_df, \u001B[38;5;124m\"\u001B[39m\u001B[38;5;124m위경도\u001B[39m\u001B[38;5;124m\"\u001B[39m)\n\u001B[1;32m     27\u001B[0m \u001B[38;5;28mprint\u001B[39m(address_polygon_df)\n",
      "Cell \u001B[0;32mIn[5], line 3\u001B[0m, in \u001B[0;36mpoint\u001B[0;34m(df, geom_type)\u001B[0m\n\u001B[1;32m      1\u001B[0m \u001B[38;5;28;01mdef\u001B[39;00m \u001B[38;5;21mpoint\u001B[39m(df: pd\u001B[38;5;241m.\u001B[39mDataFrame, geom_type):\n\u001B[1;32m      2\u001B[0m     \u001B[38;5;28;01mif\u001B[39;00m geom_type \u001B[38;5;241m==\u001B[39m \u001B[38;5;124m\"\u001B[39m\u001B[38;5;124m주소\u001B[39m\u001B[38;5;124m\"\u001B[39m:\n\u001B[0;32m----> 3\u001B[0m         result \u001B[38;5;241m=\u001B[39m \u001B[43mgeojson2centroid\u001B[49m(df)\n\u001B[1;32m      4\u001B[0m         df \u001B[38;5;241m=\u001B[39m pd\u001B[38;5;241m.\u001B[39mDataFrame(\n\u001B[1;32m      5\u001B[0m             data\u001B[38;5;241m=\u001B[39mresult,\n\u001B[1;32m      6\u001B[0m             columns\u001B[38;5;241m=\u001B[39m[\u001B[38;5;124m\"\u001B[39m\u001B[38;5;124mLABEL\u001B[39m\u001B[38;5;124m\"\u001B[39m, \u001B[38;5;124m\"\u001B[39m\u001B[38;5;124mLAT\u001B[39m\u001B[38;5;124m\"\u001B[39m, \u001B[38;5;124m\"\u001B[39m\u001B[38;5;124mLON\u001B[39m\u001B[38;5;124m\"\u001B[39m, \u001B[38;5;124m\"\u001B[39m\u001B[38;5;124mCOUNT\u001B[39m\u001B[38;5;124m\"\u001B[39m]\n\u001B[1;32m      7\u001B[0m         )\n\u001B[1;32m      8\u001B[0m     \u001B[38;5;28;01melse\u001B[39;00m:  \u001B[38;5;66;03m# 위경도\u001B[39;00m\n",
      "\u001B[0;31mNameError\u001B[0m: name 'geojson2centroid' is not defined"
     ]
    }
   ],
   "source": [
    "column = [\n",
    "    \"라벨\",\t\"주소_시도명\",\t\"주소_시군구명\",\t\"주소_읍면동명\",\t\"가중치(숫자)\"\n",
    "]\n",
    "value = [\n",
    "[\"A\",\t\"경상남도\",\t\"거창군\",\t\"신원면\",\t1498],\n",
    "[\"B\",\t\"전라남도\",\t\"고흥군\",\t\"도화면\",\t4411],\n",
    "[\"C\",\t\"대전광역시\",\t\"서구\",\t\"복수동\",\t8801]\n",
    "]\n",
    "\n",
    "address_df = pd.DataFrame(value, columns=column)\n",
    "\n",
    "column = [\n",
    "    \"라벨\",\t\"위도\",\t\"경도\",\t\"가중치(숫자)\"\n",
    "]\n",
    "value = [\n",
    "[\"인천국제공항\",\t337.4625,\t126.439167,\t14928],\n",
    "[\"김포국제공항\",\t37.558056,\t126.790556,\t11568],\n",
    "[\"제주국제공항\",\t33.511111,\t126.492778,\t13661],\n",
    "[\"김해국제공항\",\t35.179444,\t128.938056,\t4626]\n",
    "]\n",
    "\n",
    "latlon_df = pd.DataFrame(value, columns=column)\n",
    "\n",
    "\n",
    "address_polygon_df = point(address_df, \"주소\")\n",
    "latlon_polygon_df = point(latlon_df, \"위경도\")\n",
    "print(address_polygon_df)\n",
    "print(latlon_polygon_df)"
   ],
   "metadata": {
    "collapsed": false,
    "pycharm": {
     "name": "#%%\n"
    }
   }
  },
  {
   "cell_type": "markdown",
   "source": [
    "## bubble / 버블"
   ],
   "metadata": {
    "collapsed": false,
    "pycharm": {
     "name": "#%% md\n"
    }
   }
  },
  {
   "cell_type": "code",
   "execution_count": 10,
   "outputs": [
    {
     "ename": "NameError",
     "evalue": "name 'geojson2centroid' is not defined",
     "output_type": "error",
     "traceback": [
      "\u001B[0;31m---------------------------------------------------------------------------\u001B[0m",
      "\u001B[0;31mNameError\u001B[0m                                 Traceback (most recent call last)",
      "Cell \u001B[0;32mIn[10], line 25\u001B[0m\n\u001B[1;32m     15\u001B[0m value \u001B[38;5;241m=\u001B[39m [\n\u001B[1;32m     16\u001B[0m [\u001B[38;5;124m\"\u001B[39m\u001B[38;5;124m인천국제공항\u001B[39m\u001B[38;5;124m\"\u001B[39m,\t\u001B[38;5;241m337.4625\u001B[39m,\t\u001B[38;5;241m126.439167\u001B[39m,\t\u001B[38;5;241m14928\u001B[39m],\n\u001B[1;32m     17\u001B[0m [\u001B[38;5;124m\"\u001B[39m\u001B[38;5;124m김포국제공항\u001B[39m\u001B[38;5;124m\"\u001B[39m,\t\u001B[38;5;241m37.558056\u001B[39m,\t\u001B[38;5;241m126.790556\u001B[39m,\t\u001B[38;5;241m11568\u001B[39m],\n\u001B[1;32m     18\u001B[0m [\u001B[38;5;124m\"\u001B[39m\u001B[38;5;124m제주국제공항\u001B[39m\u001B[38;5;124m\"\u001B[39m,\t\u001B[38;5;241m33.511111\u001B[39m,\t\u001B[38;5;241m126.492778\u001B[39m,\t\u001B[38;5;241m13661\u001B[39m],\n\u001B[1;32m     19\u001B[0m [\u001B[38;5;124m\"\u001B[39m\u001B[38;5;124m김해국제공항\u001B[39m\u001B[38;5;124m\"\u001B[39m,\t\u001B[38;5;241m35.179444\u001B[39m,\t\u001B[38;5;241m128.938056\u001B[39m,\t\u001B[38;5;241m4626\u001B[39m]\n\u001B[1;32m     20\u001B[0m ]\n\u001B[1;32m     22\u001B[0m latlon_df \u001B[38;5;241m=\u001B[39m pd\u001B[38;5;241m.\u001B[39mDataFrame(value, columns\u001B[38;5;241m=\u001B[39mcolumn)\n\u001B[0;32m---> 25\u001B[0m address_polygon_df \u001B[38;5;241m=\u001B[39m \u001B[43mbubble\u001B[49m\u001B[43m(\u001B[49m\u001B[43maddress_df\u001B[49m\u001B[43m,\u001B[49m\u001B[43m \u001B[49m\u001B[38;5;124;43m\"\u001B[39;49m\u001B[38;5;124;43m주소\u001B[39;49m\u001B[38;5;124;43m\"\u001B[39;49m\u001B[43m)\u001B[49m\n\u001B[1;32m     26\u001B[0m latlon_polygon_df \u001B[38;5;241m=\u001B[39m bubble(latlon_df, \u001B[38;5;124m\"\u001B[39m\u001B[38;5;124m위경도\u001B[39m\u001B[38;5;124m\"\u001B[39m)\n\u001B[1;32m     27\u001B[0m \u001B[38;5;28mprint\u001B[39m(address_polygon_df)\n",
      "Cell \u001B[0;32mIn[6], line 3\u001B[0m, in \u001B[0;36mbubble\u001B[0;34m(df, geom_type)\u001B[0m\n\u001B[1;32m      1\u001B[0m \u001B[38;5;28;01mdef\u001B[39;00m \u001B[38;5;21mbubble\u001B[39m(df: pd\u001B[38;5;241m.\u001B[39mDataFrame, geom_type):\n\u001B[1;32m      2\u001B[0m     \u001B[38;5;28;01mif\u001B[39;00m geom_type \u001B[38;5;241m==\u001B[39m \u001B[38;5;124m\"\u001B[39m\u001B[38;5;124m주소\u001B[39m\u001B[38;5;124m\"\u001B[39m:\n\u001B[0;32m----> 3\u001B[0m         result \u001B[38;5;241m=\u001B[39m \u001B[43mgeojson2centroid\u001B[49m(df)\n\u001B[1;32m      4\u001B[0m         df \u001B[38;5;241m=\u001B[39m pd\u001B[38;5;241m.\u001B[39mDataFrame(\n\u001B[1;32m      5\u001B[0m             data\u001B[38;5;241m=\u001B[39mresult,\n\u001B[1;32m      6\u001B[0m             columns\u001B[38;5;241m=\u001B[39m[\u001B[38;5;124m\"\u001B[39m\u001B[38;5;124mLABEL\u001B[39m\u001B[38;5;124m\"\u001B[39m, \u001B[38;5;124m\"\u001B[39m\u001B[38;5;124mLAT\u001B[39m\u001B[38;5;124m\"\u001B[39m, \u001B[38;5;124m\"\u001B[39m\u001B[38;5;124mLON\u001B[39m\u001B[38;5;124m\"\u001B[39m, \u001B[38;5;124m\"\u001B[39m\u001B[38;5;124mCOUNT\u001B[39m\u001B[38;5;124m\"\u001B[39m]\n\u001B[1;32m      7\u001B[0m         )\n\u001B[1;32m      8\u001B[0m     \u001B[38;5;28;01melse\u001B[39;00m:  \u001B[38;5;66;03m# 위경도\u001B[39;00m\n",
      "\u001B[0;31mNameError\u001B[0m: name 'geojson2centroid' is not defined"
     ]
    }
   ],
   "source": [
    "column = [\n",
    "    \"라벨\",\t\"주소_시도명\",\t\"주소_시군구명\",\t\"주소_읍면동명\",\t\"가중치(숫자)\"\n",
    "]\n",
    "value = [\n",
    "[\"A\",\t\"경상남도\",\t\"거창군\",\t\"신원면\",\t1498],\n",
    "[\"B\",\t\"전라남도\",\t\"고흥군\",\t\"도화면\",\t4411],\n",
    "[\"C\",\t\"대전광역시\",\t\"서구\",\t\"복수동\",\t8801]\n",
    "]\n",
    "\n",
    "address_df = pd.DataFrame(value, columns=column)\n",
    "\n",
    "column = [\n",
    "    \"라벨\",\t\"위도\",\t\"경도\",\t\"가중치(숫자)\"\n",
    "]\n",
    "value = [\n",
    "[\"인천국제공항\",\t337.4625,\t126.439167,\t14928],\n",
    "[\"김포국제공항\",\t37.558056,\t126.790556,\t11568],\n",
    "[\"제주국제공항\",\t33.511111,\t126.492778,\t13661],\n",
    "[\"김해국제공항\",\t35.179444,\t128.938056,\t4626]\n",
    "]\n",
    "\n",
    "latlon_df = pd.DataFrame(value, columns=column)\n",
    "\n",
    "\n",
    "address_polygon_df = bubble(address_df, \"주소\")\n",
    "latlon_polygon_df = bubble(latlon_df, \"위경도\")\n",
    "print(address_polygon_df)\n",
    "print(latlon_polygon_df)"
   ],
   "metadata": {
    "collapsed": false,
    "pycharm": {
     "name": "#%%\n"
    }
   }
  }
 ],
 "metadata": {
  "kernelspec": {
   "display_name": "Python 3",
   "language": "python",
   "name": "python3"
  },
  "language_info": {
   "codemirror_mode": {
    "name": "ipython",
    "version": 2
   },
   "file_extension": ".py",
   "mimetype": "text/x-python",
   "name": "python",
   "nbconvert_exporter": "python",
   "pygments_lexer": "ipython2",
   "version": "2.7.6"
  }
 },
 "nbformat": 4,
 "nbformat_minor": 0
}