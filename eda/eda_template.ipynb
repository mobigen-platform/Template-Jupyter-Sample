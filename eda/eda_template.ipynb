{
 "cells": [
  {
   "cell_type": "markdown",
   "source": [
    "# EDA\n",
    "> EDA란 수집된 데이터에 대해 통계 및 대푯값 추출 등을 통해 다양한 각도에서 관찰하고 이해할 수 있도록 하는 분석 기법을 의미합니다.\n",
    "\n",
    "## 목차\n",
    "- import Base code\n",
    "    - representative_value / 대푯값\n",
    "    - quantile / 사분위수\n",
    "    - outlier / 이상치\n",
    "    - scatterplot / 산점도\n",
    "    - corr / 상관관계\n",
    "- 함수 시연\n",
    "    - representative_value / 대푯값\n",
    "    - quantile / 사분위수\n",
    "    - outlier / 이상치\n",
    "    - scatterplot / 산점도\n",
    "    - corr / 상관관계"
   ],
   "metadata": {
    "collapsed": false,
    "pycharm": {
     "name": "#%% md\n"
    }
   }
  },
  {
   "cell_type": "markdown",
   "source": [
    "## import Base code\n"
   ],
   "metadata": {
    "collapsed": false,
    "pycharm": {
     "name": "#%% md\n"
    }
   }
  },
  {
   "cell_type": "code",
   "execution_count": 1,
   "outputs": [
    {
     "name": "stdout",
     "output_type": "stream",
     "text": [
      "Requirement already satisfied: openpyxl in /Users/jheok/Desktop/mobigen/Template-Jupyter-Sample/venv/lib/python3.9/site-packages (3.1.0)\r\n",
      "Requirement already satisfied: et-xmlfile in /Users/jheok/Desktop/mobigen/Template-Jupyter-Sample/venv/lib/python3.9/site-packages (from openpyxl) (1.1.0)\r\n",
      "\u001B[33mWARNING: You are using pip version 21.3.1; however, version 23.0 is available.\r\n",
      "You should consider upgrading via the '/Users/jheok/Desktop/mobigen/Template-Jupyter-Sample/venv/bin/python -m pip install --upgrade pip' command.\u001B[0m\r\n"
     ]
    }
   ],
   "source": [
    "! pip install openpyxl"
   ],
   "metadata": {
    "collapsed": false,
    "pycharm": {
     "name": "#%%\n"
    }
   }
  },
  {
   "cell_type": "code",
   "execution_count": 2,
   "outputs": [],
   "source": [
    "import os\n",
    "import pandas as pd\n",
    "import numpy as np\n",
    "\n",
    "\n",
    "file_path = os.path.join(os.getcwd(), \"sample_eda.xlsx\")\n",
    "\n",
    "\n",
    "def type_mapping(field_type):\n",
    "    support = {\n",
    "        \"int64\": \"INTEGER\",\n",
    "        \"float64\": \"REAL\",\n",
    "        \"datetime64\": \"TIMESTAMP\",\n",
    "        \"object\": \"TEXT\",\n",
    "        np.dtype('float64'): \"REAL\",\n",
    "        np.dtype('int32'): \"INTEGER\",\n",
    "        np.dtype('int64'): \"INTEGER\",\n",
    "        np.dtype('object'): \"TEXT\"\n",
    "    }\n",
    "    python_type = support[field_type]\n",
    "    return python_type\n",
    "\n",
    "def parse_df(df):\n",
    "    if isinstance(df, pd.DataFrame):\n",
    "        fields = [{\"name\": a[0], \"type\": type_mapping(a[1])} for a in zip(df.columns.tolist(), df.dtypes.apply(lambda x: x.name).to_list())]\n",
    "        return {\n",
    "            \"fields\": fields,\n",
    "            \"results\": df.values.tolist()\n",
    "        }\n",
    "    else:\n",
    "        return df\n"
   ],
   "metadata": {
    "collapsed": false,
    "pycharm": {
     "name": "#%%\n"
    }
   }
  },
  {
   "cell_type": "markdown",
   "source": [
    "## representative_value / 대푯값\n",
    "> 객체의 기초 통계 정보를 요약해주는 함수입니다. 평균, 표준 편차, 최대/최소값, 사분위수 등을 계산하여 반환합니다.\n",
    "\n",
    "- 구성\n",
    "  -  representative_value 실행함수"
   ],
   "metadata": {
    "collapsed": false,
    "pycharm": {
     "name": "#%% md\n"
    }
   }
  },
  {
   "cell_type": "code",
   "execution_count": 3,
   "outputs": [],
   "source": [
    "# representative_value 실행함수\n",
    "\n",
    "def representative_value(df: pd.DataFrame):\n",
    "    df = df.describe()\n",
    "    df = df.reset_index(level=0)\n",
    "    df.rename(columns={\n",
    "        'index': '기준열'\n",
    "    }, inplace=True)\n",
    "    return df"
   ],
   "metadata": {
    "collapsed": false,
    "pycharm": {
     "name": "#%%\n"
    }
   }
  },
  {
   "cell_type": "markdown",
   "source": [
    "## quantile / 사분위수\n",
    "> 4분위수(quartile)란, 데이터를 4개의 집단으로 나누는 것을 의미합니다. 4분위수는 아래와 같은 4가지로 나뉩니다.\n",
    "  첫번째 사분위수 (Q1) : 데이터의 25%\n",
    "  두번째 사분위수 (Q2) : 데이터의 50% (이를 중앙값이라고 합니다)\n",
    "  세번째 사분위수 (Q3) : 데이터의 75%\n",
    "  네번째 사분위수 (Q4) : 데이터의 100%\n",
    "\n",
    "- 구성\n",
    "    - quantile 실행함수"
   ],
   "metadata": {
    "collapsed": false,
    "pycharm": {
     "name": "#%% md\n"
    }
   }
  },
  {
   "cell_type": "code",
   "execution_count": 4,
   "outputs": [],
   "source": [
    "# quantile 실행함수\n",
    "\n",
    "def rename(newname):\n",
    "    def decorator(f):\n",
    "        f.__name__ = newname\n",
    "        return f\n",
    "\n",
    "    return decorator\n",
    "\n",
    "\n",
    "def q_at(target, y):\n",
    "    @rename(f'{target}_Q{y}')\n",
    "    def q(x):\n",
    "        return x.quantile(float(f\"0.{y}\"))\n",
    "\n",
    "    return q\n",
    "\n",
    "\n",
    "def quantile(df: pd.DataFrame):\n",
    "    by, target, rate = \"기준\", \"값(숫자)\", 25\n",
    "    quantile_list = []\n",
    "    for percent in range(0, 101, int(rate)):\n",
    "        quantile_list.append(q_at(target, percent))\n",
    "    df = df.groupby(by).agg(quantile_list).reset_index(col_level=1)\n",
    "    df.columns = df.columns.droplevel(level=0)\n",
    "    df.rename(columns={\n",
    "        '기준': '기준열', '값(숫자)_Q0': \"최솟값\", '값(숫자)_Q25': \"1사분위\",\n",
    "        '값(숫자)_Q50': '중앙값', '값(숫자)_Q75': '3사분위', '값(숫자)_Q100': '최댓값'\n",
    "    }, inplace=True)\n",
    "    return df"
   ],
   "metadata": {
    "collapsed": false,
    "pycharm": {
     "name": "#%%\n"
    }
   }
  },
  {
   "cell_type": "markdown",
   "source": [
    "## outlier / 이상치\n",
    "> iqr(interquartile range) 이상치는 통계학에서 사용되는 개념입니다. 이는 데이터의 사분위수(quartile)를 기반으로 하여 이상치를 검출하는 방법입니다.\n",
    "\n",
    "- 구성\n",
    "    - outlier 실행함수"
   ],
   "metadata": {
    "collapsed": false,
    "pycharm": {
     "name": "#%% md\n"
    }
   }
  },
  {
   "cell_type": "code",
   "execution_count": 5,
   "outputs": [],
   "source": [
    "# outlier 실행함수\n",
    "\n",
    "def outlier(df: pd.DataFrame):\n",
    "    group_by, target = \"기준\", \"값(숫자)\"\n",
    "    target_type = type_mapping(df[\"값(숫자)\"].dtype)\n",
    "\n",
    "    q3 = df[target].quantile(0.75)\n",
    "    q1 = df[target].quantile(0.25)\n",
    "    iqr = q3 - q1\n",
    "\n",
    "    def iqr_outlier(df):\n",
    "        if df[target] > q3 + 1.5 * iqr or df[target] < q1 - 1.5 * iqr:\n",
    "            return df[target]\n",
    "        else:\n",
    "            return None\n",
    "\n",
    "    df['이상치'] = df.apply(iqr_outlier, axis=1)\n",
    "    df.rename(columns={\n",
    "        '기준': '범주', '값(숫자)': \"값\"\n",
    "    }, inplace=True)\n",
    "    df = df.replace({np.nan: None})\n",
    "    res = []\n",
    "    for i in df.values.tolist():\n",
    "        tmp = []\n",
    "        for j in i:\n",
    "            if j is pd.NA:\n",
    "                tmp.append(None)\n",
    "            else:\n",
    "                tmp.append(j)\n",
    "        res.append(tmp)\n",
    "    return {\n",
    "        \"fields\": [\n",
    "            {\"name\": \"범주\", \"type\": \"TEXT\"},\n",
    "            {\"name\": \"값\", \"type\": target_type},\n",
    "            {\"name\": \"이상치\", \"type\": target_type}],\n",
    "        \"results\": res,\n",
    "        \"message\": None\n",
    "    }"
   ],
   "metadata": {
    "collapsed": false,
    "pycharm": {
     "name": "#%%\n"
    }
   }
  },
  {
   "cell_type": "markdown",
   "source": [
    "## scatterplot / 산점도\n",
    "> DataFrame 객체에서 x, y 열을 지정하여 산점도(Scatter Plot)를 그릴 수 있는 기능입니다.\n",
    "\n",
    "- 구성\n",
    "    -  scatterplot 실행함수"
   ],
   "metadata": {
    "collapsed": false,
    "pycharm": {
     "name": "#%% md\n"
    }
   }
  },
  {
   "cell_type": "code",
   "execution_count": 6,
   "outputs": [],
   "source": [
    "# scatterplot 실행함수\n",
    "\n",
    "def scatterplot(df: pd.DataFrame):\n",
    "    df.rename(columns={\n",
    "        '값(숫자)': '값'\n",
    "    }, inplace=True)\n",
    "    return df"
   ],
   "metadata": {
    "collapsed": false,
    "pycharm": {
     "name": "#%%\n"
    }
   }
  },
  {
   "cell_type": "markdown",
   "source": [
    "## corr / 상관관계\n",
    ">  상관관계 분석은 Pearson 상관계수를 계산합니다.\n",
    "\n",
    "- 구성\n",
    "    - corr 실행함수"
   ],
   "metadata": {
    "collapsed": false,
    "pycharm": {
     "name": "#%% md\n"
    }
   }
  },
  {
   "cell_type": "code",
   "execution_count": 7,
   "outputs": [],
   "source": [
    "# corr 실행함수\n",
    "\n",
    "def corr(df: pd.DataFrame):\n",
    "    df = df.corr(method='pearson')\n",
    "    df = df.reset_index(level=0)\n",
    "    df.rename(columns={\n",
    "        'index': 'X'\n",
    "    }, inplace=True)\n",
    "    df = df.replace({np.nan: None})\n",
    "\n",
    "    res = []\n",
    "    for i in df.values.tolist():\n",
    "        tmp = []\n",
    "        for j in i:\n",
    "            if isinstance(j, float):\n",
    "                tmp.append(round(j, 3))\n",
    "            else:\n",
    "                tmp.append(j)\n",
    "        res.append(tmp)\n",
    "    return {\n",
    "        \"fields\": [{\"name\": a[0], \"type\": type_mapping(a[1])}\n",
    "                   for a in zip(df.columns.tolist(), df.dtypes.apply(lambda x: x.name).to_list())],\n",
    "        \"results\": res,\n",
    "        \"message\": None\n",
    "    }"
   ],
   "metadata": {
    "collapsed": false,
    "pycharm": {
     "name": "#%%\n"
    }
   }
  },
  {
   "cell_type": "markdown",
   "source": [
    "# 함수 시연\n",
    "## representative_value / 대푯값"
   ],
   "metadata": {
    "collapsed": false,
    "pycharm": {
     "name": "#%% md\n"
    }
   }
  },
  {
   "cell_type": "code",
   "execution_count": 8,
   "outputs": [
    {
     "name": "stdout",
     "output_type": "stream",
     "text": [
      "{'fields': [{'name': '기준열', 'type': 'TEXT'}, {'name': '값1(숫자)', 'type': 'REAL'}, {'name': '값2(숫자)', 'type': 'REAL'}, {'name': '값3(숫자)', 'type': 'REAL'}, {'name': '값4(숫자)', 'type': 'REAL'}, {'name': '값5(숫자)', 'type': 'REAL'}], 'results': [['count', 18.0, 18.0, 18.0, 18.0, 18.0], ['mean', 4.994444444444444, 3.4444444444444446, 1.4166666666666665, 0.2277777777777778, 0.2277777777777778], ['std', 0.4193443372726219, 0.41476034500763176, 0.13826657968874304, 0.09582800496696, 0.09582800496696], ['min', 4.3, 2.9, 1.1, 0.1, 0.1], ['25%', 4.725, 3.1, 1.4, 0.2, 0.2], ['50%', 4.95, 3.4, 1.4, 0.2, 0.2], ['75%', 5.325, 3.6750000000000003, 1.5, 0.275, 0.275], ['max', 5.8, 4.4, 1.7, 0.4, 0.4]]}\n"
     ]
    }
   ],
   "source": [
    "df = pd.read_excel(file_path, sheet_name=\"대푯값\")\n",
    "result = representative_value(df)\n",
    "print(parse_df(result))"
   ],
   "metadata": {
    "collapsed": false,
    "pycharm": {
     "name": "#%%\n"
    }
   }
  },
  {
   "cell_type": "markdown",
   "source": [
    "## quantile / 사분위수"
   ],
   "metadata": {
    "collapsed": false,
    "pycharm": {
     "name": "#%% md\n"
    }
   }
  },
  {
   "cell_type": "code",
   "execution_count": 9,
   "outputs": [
    {
     "name": "stdout",
     "output_type": "stream",
     "text": [
      "{'fields': [{'name': '기준열', 'type': 'TEXT'}, {'name': '최솟값', 'type': 'REAL'}, {'name': '1사분위', 'type': 'REAL'}, {'name': '중앙값', 'type': 'REAL'}, {'name': '3사분위', 'type': 'REAL'}, {'name': '최댓값', 'type': 'REAL'}], 'results': [['광주', 190.0, 692.25, 1042.5, 1253.25, 397.5], ['나주', 426.0, 1340.25, 1541.0, 1769.5, 875.5], ['대구', 25.0, 188.0, 357.0, 979.75, 78.5], ['대전', 254.0, 576.5, 1187.5, 1605.0, 362.5], ['목포', 589.0, 978.25, 1351.5, 1617.5, 741.0], ['부산', 102.0, 474.5, 1063.0, 1184.25, 205.5], ['서울', 4.0, 139.75, 543.5, 602.25, 9.0], ['시흥', 116.0, 245.75, 382.0, 1120.5, 171.0], ['인천', 886.0, 1049.0, 1382.5, 1704.0, 958.0], ['포항', 761.0, 938.25, 1605.5, 1909.75, 761.5]]}\n"
     ]
    }
   ],
   "source": [
    "df = pd.read_excel(file_path, sheet_name=\"사분위수\")\n",
    "result = quantile(df)\n",
    "print(parse_df(result))"
   ],
   "metadata": {
    "collapsed": false,
    "pycharm": {
     "name": "#%%\n"
    }
   }
  },
  {
   "cell_type": "markdown",
   "source": [
    "## outlier / 이상치"
   ],
   "metadata": {
    "collapsed": false,
    "pycharm": {
     "name": "#%% md\n"
    }
   }
  },
  {
   "cell_type": "code",
   "execution_count": 10,
   "outputs": [
    {
     "name": "stdout",
     "output_type": "stream",
     "text": [
      "{'fields': [{'name': '범주', 'type': 'TEXT'}, {'name': '값', 'type': 'INTEGER'}, {'name': '이상치', 'type': 'INTEGER'}], 'results': [['일', 1598, None], ['월', 1978, None], ['화', 12, 12.0], ['수', 2255, None], ['목', 10000, 10000.0], ['금', 2556, None], ['토', 2387, None]], 'message': None}\n"
     ]
    }
   ],
   "source": [
    "df = pd.read_excel(file_path, sheet_name=\"이상치\")\n",
    "result = outlier(df)\n",
    "print(result)\n"
   ],
   "metadata": {
    "collapsed": false,
    "pycharm": {
     "name": "#%%\n"
    }
   }
  },
  {
   "cell_type": "markdown",
   "source": [
    "## scatterplot / 산점도"
   ],
   "metadata": {
    "collapsed": false,
    "pycharm": {
     "name": "#%% md\n"
    }
   }
  },
  {
   "cell_type": "code",
   "execution_count": 11,
   "outputs": [
    {
     "name": "stdout",
     "output_type": "stream",
     "text": [
      "{'fields': [{'name': '범주', 'type': 'INTEGER'}, {'name': '값', 'type': 'INTEGER'}], 'results': [[1807, 114], [2035, 162], [2097, 156], [2342, 185], [2199, 161], [2804, 177], [2857, 179], [1768, 140], [2254, 155], [2359, 144], [2524, 186], [2142, 166], [2511, 166], [2409, 196], [1936, 153], [2931, 215], [2905, 235], [2886, 209]]}\n"
     ]
    }
   ],
   "source": [
    "df = pd.read_excel(file_path, sheet_name=\"산점도\")\n",
    "result = scatterplot(df)\n",
    "print(parse_df(result))"
   ],
   "metadata": {
    "collapsed": false,
    "pycharm": {
     "name": "#%%\n"
    }
   }
  },
  {
   "cell_type": "markdown",
   "source": [
    "## corr / 상관관계"
   ],
   "metadata": {
    "collapsed": false,
    "pycharm": {
     "name": "#%% md\n"
    }
   }
  },
  {
   "cell_type": "code",
   "execution_count": 12,
   "outputs": [
    {
     "name": "stdout",
     "output_type": "stream",
     "text": [
      "{'fields': [{'name': 'X', 'type': 'TEXT'}, {'name': '환경', 'type': 'REAL'}, {'name': '기후', 'type': 'REAL'}, {'name': '해양', 'type': 'REAL'}, {'name': '대기', 'type': 'REAL'}], 'results': [['환경', 1.0, 0.181, 0.737, 0.737], ['기후', 0.181, 1.0, 0.318, 0.318], ['해양', 0.737, 0.318, 1.0, 1.0], ['대기', 0.737, 0.318, 1.0, 1.0]], 'message': None}\n"
     ]
    }
   ],
   "source": [
    "df = pd.read_excel(file_path, sheet_name=\"상관관계\")\n",
    "result = corr(df)\n",
    "print(result)"
   ],
   "metadata": {
    "collapsed": false,
    "pycharm": {
     "name": "#%%\n"
    }
   }
  }
 ],
 "metadata": {
  "kernelspec": {
   "display_name": "Python 3",
   "language": "python",
   "name": "python3"
  },
  "language_info": {
   "codemirror_mode": {
    "name": "ipython",
    "version": 2
   },
   "file_extension": ".py",
   "mimetype": "text/x-python",
   "name": "python",
   "nbconvert_exporter": "python",
   "pygments_lexer": "ipython2",
   "version": "2.7.6"
  }
 },
 "nbformat": 4,
 "nbformat_minor": 0
}