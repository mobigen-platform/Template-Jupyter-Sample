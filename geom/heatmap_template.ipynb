{
 "cells": [
  {
   "cell_type": "markdown",
   "source": [
    "# 공간 분석\n",
    "> 공간 분석이란 지리공간정보를 데이터로 변환하여 특정 위치나 공간의 특징을 시각적으로 분석해내는 기법을 의미합니다.\n",
    "\n",
    "## 목차\n",
    "- import Base code\n",
    "    - heatmap / 히트맵\n",
    "- 함수 시연\n",
    "    - heatmap / 히트맵"
   ],
   "metadata": {
    "collapsed": false,
    "pycharm": {
     "name": "#%% md\n"
    }
   }
  },
  {
   "cell_type": "markdown",
   "source": [
    "## import Base code"
   ],
   "metadata": {
    "collapsed": false,
    "pycharm": {
     "name": "#%% md\n"
    }
   }
  },
  {
   "cell_type": "code",
   "execution_count": 1,
   "outputs": [
    {
     "name": "stdout",
     "output_type": "stream",
     "text": [
      "Requirement already satisfied: geom==1.1 in /Users/jheok/Desktop/mobigen/Template-Jupyter-Sample/venv/lib/python3.9/site-packages (1.1)\r\n",
      "\u001B[33mWARNING: You are using pip version 21.3.1; however, version 23.0 is available.\r\n",
      "You should consider upgrading via the '/Users/jheok/Desktop/mobigen/Template-Jupyter-Sample/venv/bin/python -m pip install --upgrade pip' command.\u001B[0m\r\n"
     ]
    }
   ],
   "source": [
    "! pip install geom==1.1"
   ],
   "metadata": {
    "collapsed": false,
    "pycharm": {
     "name": "#%%\n"
    }
   }
  },
  {
   "cell_type": "code",
   "execution_count": 2,
   "outputs": [],
   "source": [
    "import json\n",
    "import os\n",
    "import pandas as pd\n",
    "import shapely.geometry\n",
    "\n",
    "from Geom import search\n",
    "\n",
    "def geojson2centroid(df):\n",
    "    result = []\n",
    "    for row in df.values.tolist():\n",
    "        juso_code = search.juso_to_code(sido=row[1], sgg=row[2], emd=row[3])\n",
    "        geojson = search.code_to_geom(juso_code=str(juso_code))\n",
    "        result.append([\n",
    "            row[0],\n",
    "            shapely.geometry.shape(json.loads(geojson)).centroid.x,\n",
    "            shapely.geometry.shape(json.loads(geojson)).centroid.y,\n",
    "            row[4]]\n",
    "        )\n",
    "    return result\n",
    "\n",
    "\n",
    "file_path = os.path.join(os.getcwd(), \"sample_space.xlsx\")\n",
    "\n",
    "address_df = pd.read_excel(file_path, sheet_name=\"주소\")\n",
    "latlon_df = pd.read_excel(file_path, sheet_name=\"위경도\")"
   ],
   "metadata": {
    "collapsed": false,
    "pycharm": {
     "name": "#%%\n"
    }
   }
  },
  {
   "cell_type": "markdown",
   "source": [
    "## heatmap / 히트맵\n",
    "> 히트맵이란 지리공간정보를 지도 위에 표시하는 방식 중 하나로, Heat(열)와 Map(지도)의 합성어를 뜻합니다.\n",
    "\n",
    "- 구성\n",
    "    -  heatmap 실행함수"
   ],
   "metadata": {
    "collapsed": false,
    "pycharm": {
     "name": "#%% md\n"
    }
   }
  },
  {
   "cell_type": "code",
   "execution_count": 3,
   "outputs": [],
   "source": [
    "# heatmap 실행함수\n",
    "\n",
    "def heatmap(df: pd.DataFrame, geom_type):\n",
    "    if geom_type == \"주소\":\n",
    "        result = geojson2centroid(df)\n",
    "        df = pd.DataFrame(\n",
    "            data=result,\n",
    "            columns=[\"LABEL\", \"LAT\", \"LON\", \"COUNT\"]\n",
    "        )\n",
    "    else:  # 위경도\n",
    "        df.rename(columns={\n",
    "            '라벨': 'LABEL', '위도': 'LAT', '경도': 'LON', '값(숫자)': 'COUNT'\n",
    "        }, inplace=True)\n",
    "    return df"
   ],
   "metadata": {
    "collapsed": false,
    "pycharm": {
     "name": "#%%\n"
    }
   }
  },
  {
   "cell_type": "markdown",
   "source": [
    "# 함수 시연\n",
    "## heatmap / 히트맵"
   ],
   "metadata": {
    "collapsed": false,
    "pycharm": {
     "name": "#%% md\n"
    }
   }
  },
  {
   "cell_type": "code",
   "execution_count": 4,
   "outputs": [
    {
     "name": "stdout",
     "output_type": "stream",
     "text": [
      "  LABEL        LAT         LON  COUNT\n",
      "0     A  35.565194  127.927992   1498\n",
      "1     B  34.498927  127.321177   4411\n",
      "2     C  36.302331  127.376627   8801\n",
      "3     D  35.379461  128.740500   9762\n",
      "4     E  37.702589  126.795662   8171\n",
      "5     F  37.717334  126.963483  10915\n",
      "6     G  36.582830  127.980244   2849\n",
      "7     H  36.677921  126.626897   7385\n",
      "8     I  36.470151  127.136587   9852\n",
      "9     J  35.174341  129.147882  21579\n",
      "    LABEL         LAT         LON  가중치(숫자)\n",
      "0  인천국제공항  337.462500  126.439167    14928\n",
      "1  김포국제공항   37.558056  126.790556    11568\n",
      "2  제주국제공항   33.511111  126.492778    13661\n",
      "3  김해국제공항   35.179444  128.938056     4626\n"
     ]
    }
   ],
   "source": [
    "address_polygon_df = heatmap(address_df, \"주소\")\n",
    "latlon_polygon_df = heatmap(latlon_df, \"위경도\")\n",
    "print(address_polygon_df)\n",
    "print(latlon_polygon_df)"
   ],
   "metadata": {
    "collapsed": false,
    "pycharm": {
     "name": "#%%\n"
    }
   }
  }
 ],
 "metadata": {
  "kernelspec": {
   "display_name": "Python 3",
   "language": "python",
   "name": "python3"
  },
  "language_info": {
   "codemirror_mode": {
    "name": "ipython",
    "version": 2
   },
   "file_extension": ".py",
   "mimetype": "text/x-python",
   "name": "python",
   "nbconvert_exporter": "python",
   "pygments_lexer": "ipython2",
   "version": "2.7.6"
  }
 },
 "nbformat": 4,
 "nbformat_minor": 0
}