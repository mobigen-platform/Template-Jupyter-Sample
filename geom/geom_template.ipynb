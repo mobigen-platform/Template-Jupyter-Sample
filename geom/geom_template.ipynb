{
 "cells": [
  {
   "cell_type": "markdown",
   "source": [
    "# 공간 분석\n",
    "> 공간 분석이란 지리공간정보를 데이터로 변환하여 특정 위치나 공간의 특징을 시각적으로 분석해내는 기법을 의미합니다.\n",
    "\n",
    "## 목차\n",
    "- import Base code\n",
    "    - polygon / 폴리곤\n",
    "    - heatmap / 히트맵\n",
    "    - marker(point) / 마커(포인트)\n",
    "    - bubble / 버블\n",
    "- 함수 시연\n",
    "    - polygon / 폴리곤\n",
    "    - heatmap / 히트맵\n",
    "    - marker(point) / 마커(포인트)\n",
    "    - bubble / 버블"
   ],
   "metadata": {
    "collapsed": false,
    "pycharm": {
     "name": "#%% md\n"
    }
   }
  },
  {
   "cell_type": "markdown",
   "source": [
    "## import Base code"
   ],
   "metadata": {
    "collapsed": false,
    "pycharm": {
     "name": "#%% md\n"
    }
   }
  },
  {
   "cell_type": "markdown",
   "source": [],
   "metadata": {
    "collapsed": false,
    "pycharm": {
     "name": "#%% md\n"
    }
   }
  },
  {
   "cell_type": "code",
   "execution_count": 1,
   "outputs": [
    {
     "name": "stdout",
     "output_type": "stream",
     "text": [
      "Requirement already satisfied: geom==1.1 in /Users/jheok/Desktop/mobigen/Template-Jupyter-Sample/venv/lib/python3.9/site-packages (1.1)\r\n",
      "\u001B[33mWARNING: You are using pip version 21.3.1; however, version 23.0 is available.\r\n",
      "You should consider upgrading via the '/Users/jheok/Desktop/mobigen/Template-Jupyter-Sample/venv/bin/python -m pip install --upgrade pip' command.\u001B[0m\r\n"
     ]
    }
   ],
   "source": [
    "! pip install geom==1.1"
   ],
   "metadata": {
    "collapsed": false,
    "pycharm": {
     "name": "#%%\n"
    }
   }
  },
  {
   "cell_type": "code",
   "execution_count": 2,
   "outputs": [],
   "source": [
    "import json\n",
    "import os\n",
    "import pandas as pd\n",
    "import shapely.geometry\n",
    "\n",
    "from Geom import search\n",
    "\n",
    "def geojson2centroid(df):\n",
    "    result = []\n",
    "    for row in df.values.tolist():\n",
    "        juso_code = search.juso_to_code(sido=row[1], sgg=row[2], emd=row[3])\n",
    "        geojson = search.code_to_geom(juso_code=str(juso_code))\n",
    "        result.append([\n",
    "            row[0],\n",
    "            shapely.geometry.shape(json.loads(geojson)).centroid.x,\n",
    "            shapely.geometry.shape(json.loads(geojson)).centroid.y,\n",
    "            row[4]]\n",
    "        )\n",
    "    return result\n",
    "\n",
    "file_path = os.path.join(os.getcwd(), \"sample_space.xlsx\")\n",
    "\n",
    "address_df = pd.read_excel(file_path, sheet_name=\"주소\")\n",
    "latlon_df = pd.read_excel(file_path, sheet_name=\"위경도\")"
   ],
   "metadata": {
    "collapsed": false,
    "pycharm": {
     "name": "#%%\n"
    }
   }
  },
  {
   "cell_type": "markdown",
   "source": [],
   "metadata": {
    "collapsed": false,
    "pycharm": {
     "name": "#%% md\n"
    }
   }
  },
  {
   "cell_type": "markdown",
   "source": [
    "## polygon / 폴리곤\n",
    "> 폴리곤이란 지리공간정보를 지도 위에 표시하는 방식 중 하나로, 지도 위에 특정 포인트를 연결하여 생성한 다각형을 의미합니다.\n",
    "지도 위에서 특정 포인트를 연결하는 것은 선분으로 나타납니다. 특정 범주에 속하는 인위적인 영역을 묶음 지어 표현하고자 할 때 주로 사용됩니다.\n",
    "\n",
    "- 구성\n",
    "    -  polygon 실행함수"
   ],
   "metadata": {
    "collapsed": false,
    "pycharm": {
     "name": "#%% md\n"
    }
   }
  },
  {
   "cell_type": "code",
   "execution_count": 3,
   "outputs": [],
   "source": [
    "# polygon 실행함수\n",
    "\n",
    "def polygon(df: pd.DataFrame, geom_type):\n",
    "    if geom_type == \"주소\":\n",
    "        result = []\n",
    "        for row in df.values.tolist():\n",
    "            juso_code = search.juso_to_code(sido=row[1], sgg=row[2], emd=row[3])\n",
    "            geojson = search.code_to_geom(juso_code=str(juso_code))\n",
    "            result.append([row[0], geojson, row[4]])\n",
    "\n",
    "        df = pd.DataFrame(\n",
    "            data=result,\n",
    "            columns=[\"LABEL\", \"GEOJSON\", \"COUNT\"]\n",
    "        )\n",
    "    else:  # 위경도\n",
    "        result = []\n",
    "        for row in df.values.tolist():\n",
    "            result.append([row[0], f'{{\"type\":\"Point\",\"coordinates\":({row[1]}, {row[2]})}}', row[3]])\n",
    "\n",
    "        df = pd.DataFrame(\n",
    "            data=[],\n",
    "            columns=[\"LABEL\", \"GEOJSON\", \"COUNT\"]\n",
    "        )\n",
    "    return df"
   ],
   "metadata": {
    "collapsed": false,
    "pycharm": {
     "name": "#%%\n"
    }
   }
  },
  {
   "cell_type": "markdown",
   "source": [
    "## heatmap / 히트맵\n",
    "> 히트맵이란 지리공간정보를 지도 위에 표시하는 방식 중 하나로, Heat(열)와 Map(지도)의 합성어를 뜻합니다.\n",
    "\n",
    "- 구성\n",
    "    -  heatmap 실행함수"
   ],
   "metadata": {
    "collapsed": false,
    "pycharm": {
     "name": "#%% md\n"
    }
   }
  },
  {
   "cell_type": "code",
   "execution_count": 4,
   "outputs": [],
   "source": [
    "# heatmap 실행함수\n",
    "\n",
    "def heatmap(df: pd.DataFrame, geom_type):\n",
    "    if geom_type == \"주소\":\n",
    "        result = geojson2centroid(df)\n",
    "        df = pd.DataFrame(\n",
    "            data=result,\n",
    "            columns=[\"LABEL\", \"LAT\", \"LON\", \"COUNT\"]\n",
    "        )\n",
    "    else:  # 위경도\n",
    "        df.rename(columns={\n",
    "            '라벨': 'LABEL', '위도': 'LAT', '경도': 'LON', '값(숫자)': 'COUNT'\n",
    "        }, inplace=True)\n",
    "    return df"
   ],
   "metadata": {
    "collapsed": false,
    "pycharm": {
     "name": "#%%\n"
    }
   }
  },
  {
   "cell_type": "markdown",
   "source": [
    "## marker(point) / 마커(포인트)\n",
    "> 마커란 지리공간정보를 지도 위에 표시하는 방식 중 하나로, 정해진 특정 포인트를 시각적으로 표현해내는 시각화 방법을 의미합니다.\n",
    "\n",
    "- 구성\n",
    "    -  marker(point) 실행함수"
   ],
   "metadata": {
    "collapsed": false,
    "pycharm": {
     "name": "#%% md\n"
    }
   }
  },
  {
   "cell_type": "code",
   "execution_count": 5,
   "outputs": [],
   "source": [
    "# marker(point) 실행함수\n",
    "\n",
    "def point(df: pd.DataFrame, geom_type):\n",
    "    if geom_type == \"주소\":\n",
    "        result = geojson2centroid(df)\n",
    "        df = pd.DataFrame(\n",
    "            data=result,\n",
    "            columns=[\"LABEL\", \"LAT\", \"LON\", \"COUNT\"]\n",
    "        )\n",
    "    else:  # 위경도\n",
    "        df.rename(columns={\n",
    "            '라벨': 'LABEL', '위도': 'LAT', '경도': 'LON', '값(숫자)': 'COUNT'\n",
    "        }, inplace=True)\n",
    "    return df"
   ],
   "metadata": {
    "collapsed": false,
    "pycharm": {
     "name": "#%%\n"
    }
   }
  },
  {
   "cell_type": "markdown",
   "source": [
    "## bubble / 버블\n",
    "> 버블이란 지리공간정보를 지도 위에 표시하는 방식 중 하나로, 위도 및 경도로 기록된 지도 상의 위치에 특정 컬러로 칠해진 원형 도형을 통해 해당 위치에서의 측정값을 시각적으로 표현합니다.\n",
    "\n",
    "- 구성\n",
    "    -  bubble 실행함수"
   ],
   "metadata": {
    "collapsed": false,
    "pycharm": {
     "name": "#%% md\n"
    }
   }
  },
  {
   "cell_type": "code",
   "execution_count": 6,
   "outputs": [],
   "source": [
    "# bubble 실행함수\n",
    "\n",
    "def bubble(df: pd.DataFrame, geom_type):\n",
    "    if geom_type == \"주소\":\n",
    "        result = geojson2centroid(df)\n",
    "        df = pd.DataFrame(\n",
    "            data=result,\n",
    "            columns=[\"LABEL\", \"LAT\", \"LON\", \"COUNT\"]\n",
    "        )\n",
    "    else:  # 위경도\n",
    "        df.rename(columns={\n",
    "            '라벨': 'LABEL', '위도': 'LAT', '경도': 'LON', '값(숫자)': 'COUNT'\n",
    "        }, inplace=True)\n",
    "    return df"
   ],
   "metadata": {
    "collapsed": false,
    "pycharm": {
     "name": "#%%\n"
    }
   }
  },
  {
   "cell_type": "markdown",
   "source": [
    "# 함수 시연\n",
    "## polygon / 폴리곤"
   ],
   "metadata": {
    "collapsed": false,
    "pycharm": {
     "name": "#%% md\n"
    }
   }
  },
  {
   "cell_type": "code",
   "execution_count": 7,
   "outputs": [
    {
     "name": "stdout",
     "output_type": "stream",
     "text": [
      "  LABEL                                            GEOJSON  COUNT\n",
      "0     A  {\"type\":\"MultiPolygon\",\"coordinates\":[[[[35.61...   1498\n",
      "1     B  {\"type\":\"MultiPolygon\",\"coordinates\":[[[[34.48...   4411\n",
      "2     C  {\"type\":\"MultiPolygon\",\"coordinates\":[[[[36.30...   8801\n",
      "3     D  {\"type\":\"MultiPolygon\",\"coordinates\":[[[[35.37...   9762\n",
      "4     E  {\"type\":\"MultiPolygon\",\"coordinates\":[[[[37.72...   8171\n",
      "5     F  {\"type\":\"MultiPolygon\",\"coordinates\":[[[[37.66...  10915\n",
      "6     G  {\"type\":\"MultiPolygon\",\"coordinates\":[[[[36.58...   2849\n",
      "7     H  {\"type\":\"MultiPolygon\",\"coordinates\":[[[[36.73...   7385\n",
      "8     I  {\"type\":\"MultiPolygon\",\"coordinates\":[[[[36.48...   9852\n",
      "9     J  {\"type\":\"MultiPolygon\",\"coordinates\":[[[[35.19...  21579\n",
      "Empty DataFrame\n",
      "Columns: [LABEL, GEOJSON, COUNT]\n",
      "Index: []\n"
     ]
    }
   ],
   "source": [
    "address_polygon_df = polygon(address_df, \"주소\")\n",
    "latlon_polygon_df = polygon(latlon_df, \"위경도\")\n",
    "print(address_polygon_df)\n",
    "print(latlon_polygon_df)"
   ],
   "metadata": {
    "collapsed": false,
    "pycharm": {
     "name": "#%%\n"
    }
   }
  },
  {
   "cell_type": "markdown",
   "source": [
    "## heatmap / 히트맵"
   ],
   "metadata": {
    "collapsed": false,
    "pycharm": {
     "name": "#%% md\n"
    }
   }
  },
  {
   "cell_type": "code",
   "execution_count": 8,
   "outputs": [
    {
     "name": "stdout",
     "output_type": "stream",
     "text": [
      "  LABEL        LAT         LON  COUNT\n",
      "0     A  35.565194  127.927992   1498\n",
      "1     B  34.498927  127.321177   4411\n",
      "2     C  36.302331  127.376627   8801\n",
      "3     D  35.379461  128.740500   9762\n",
      "4     E  37.702589  126.795662   8171\n",
      "5     F  37.717334  126.963483  10915\n",
      "6     G  36.582830  127.980244   2849\n",
      "7     H  36.677921  126.626897   7385\n",
      "8     I  36.470151  127.136587   9852\n",
      "9     J  35.174341  129.147882  21579\n",
      "    LABEL         LAT         LON  가중치(숫자)\n",
      "0  인천국제공항  337.462500  126.439167    14928\n",
      "1  김포국제공항   37.558056  126.790556    11568\n",
      "2  제주국제공항   33.511111  126.492778    13661\n",
      "3  김해국제공항   35.179444  128.938056     4626\n"
     ]
    }
   ],
   "source": [
    "address_polygon_df = heatmap(address_df, \"주소\")\n",
    "latlon_polygon_df = heatmap(latlon_df, \"위경도\")\n",
    "print(address_polygon_df)\n",
    "print(latlon_polygon_df)"
   ],
   "metadata": {
    "collapsed": false,
    "pycharm": {
     "name": "#%%\n"
    }
   }
  },
  {
   "cell_type": "markdown",
   "source": [
    "## marker(point) / 마커(포인트)"
   ],
   "metadata": {
    "collapsed": false,
    "pycharm": {
     "name": "#%% md\n"
    }
   }
  },
  {
   "cell_type": "code",
   "execution_count": 9,
   "outputs": [
    {
     "name": "stdout",
     "output_type": "stream",
     "text": [
      "  LABEL        LAT         LON  COUNT\n",
      "0     A  35.565194  127.927992   1498\n",
      "1     B  34.498927  127.321177   4411\n",
      "2     C  36.302331  127.376627   8801\n",
      "3     D  35.379461  128.740500   9762\n",
      "4     E  37.702589  126.795662   8171\n",
      "5     F  37.717334  126.963483  10915\n",
      "6     G  36.582830  127.980244   2849\n",
      "7     H  36.677921  126.626897   7385\n",
      "8     I  36.470151  127.136587   9852\n",
      "9     J  35.174341  129.147882  21579\n",
      "    LABEL         LAT         LON  가중치(숫자)\n",
      "0  인천국제공항  337.462500  126.439167    14928\n",
      "1  김포국제공항   37.558056  126.790556    11568\n",
      "2  제주국제공항   33.511111  126.492778    13661\n",
      "3  김해국제공항   35.179444  128.938056     4626\n"
     ]
    }
   ],
   "source": [
    "address_polygon_df = point(address_df, \"주소\")\n",
    "latlon_polygon_df = point(latlon_df, \"위경도\")\n",
    "print(address_polygon_df)\n",
    "print(latlon_polygon_df)"
   ],
   "metadata": {
    "collapsed": false,
    "pycharm": {
     "name": "#%%\n"
    }
   }
  },
  {
   "cell_type": "markdown",
   "source": [
    "## bubble / 버블"
   ],
   "metadata": {
    "collapsed": false,
    "pycharm": {
     "name": "#%% md\n"
    }
   }
  },
  {
   "cell_type": "code",
   "execution_count": 10,
   "outputs": [
    {
     "name": "stdout",
     "output_type": "stream",
     "text": [
      "  LABEL        LAT         LON  COUNT\n",
      "0     A  35.565194  127.927992   1498\n",
      "1     B  34.498927  127.321177   4411\n",
      "2     C  36.302331  127.376627   8801\n",
      "3     D  35.379461  128.740500   9762\n",
      "4     E  37.702589  126.795662   8171\n",
      "5     F  37.717334  126.963483  10915\n",
      "6     G  36.582830  127.980244   2849\n",
      "7     H  36.677921  126.626897   7385\n",
      "8     I  36.470151  127.136587   9852\n",
      "9     J  35.174341  129.147882  21579\n",
      "    LABEL         LAT         LON  가중치(숫자)\n",
      "0  인천국제공항  337.462500  126.439167    14928\n",
      "1  김포국제공항   37.558056  126.790556    11568\n",
      "2  제주국제공항   33.511111  126.492778    13661\n",
      "3  김해국제공항   35.179444  128.938056     4626\n"
     ]
    }
   ],
   "source": [
    "address_polygon_df = bubble(address_df, \"주소\")\n",
    "latlon_polygon_df = bubble(latlon_df, \"위경도\")\n",
    "print(address_polygon_df)\n",
    "print(latlon_polygon_df)"
   ],
   "metadata": {
    "collapsed": false,
    "pycharm": {
     "name": "#%%\n"
    }
   }
  }
 ],
 "metadata": {
  "kernelspec": {
   "display_name": "Python 3",
   "language": "python",
   "name": "python3"
  },
  "language_info": {
   "codemirror_mode": {
    "name": "ipython",
    "version": 2
   },
   "file_extension": ".py",
   "mimetype": "text/x-python",
   "name": "python",
   "nbconvert_exporter": "python",
   "pygments_lexer": "ipython2",
   "version": "2.7.6"
  }
 },
 "nbformat": 4,
 "nbformat_minor": 0
}