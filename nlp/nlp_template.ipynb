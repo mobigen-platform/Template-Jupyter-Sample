{
 "cells": [
  {
   "cell_type": "markdown",
   "source": [
    "# 자연어 처리 (NLP)\n",
    " > 자연어 처리 및 분석이란 텍스트 데이터와 같은 비정형의 자연어를 이해하고 해석하여, 이에 관한 인사이트를 도출해내는 분석 기법을 의미합니다.\n",
    "\n",
    "## 목차\n",
    "- import Base code\n",
    "    - word cloud / 단어 빈도 분석\n",
    "    - word_relative / 연관어 분석\n",
    "    - key_sentence / 핵심 문장 추출\n",
    "- 함수 시연\n",
    "    - word cloud / 단어 빈도 분석\n",
    "    - word_relative / 연관어 분석\n",
    "    - key_sentence / 핵심 문장 추출"
   ],
   "metadata": {
    "collapsed": false,
    "pycharm": {
     "name": "#%% md\n"
    }
   }
  },
  {
   "cell_type": "markdown",
   "source": [
    "## import Base code"
   ],
   "metadata": {
    "collapsed": false,
    "pycharm": {
     "name": "#%% md\n"
    }
   }
  },
  {
   "cell_type": "code",
   "execution_count": 1,
   "outputs": [
    {
     "name": "stdout",
     "output_type": "stream",
     "text": [
      "Requirement already satisfied: textrank==0.1.2 in /Users/jheok/Desktop/mobigen/Template-Jupyter-Sample/venv/lib/python3.9/site-packages (0.1.2)\r\n",
      "\u001B[33mWARNING: You are using pip version 21.3.1; however, version 23.0 is available.\r\n",
      "You should consider upgrading via the '/Users/jheok/Desktop/mobigen/Template-Jupyter-Sample/venv/bin/python -m pip install --upgrade pip' command.\u001B[0m\r\n"
     ]
    }
   ],
   "source": [
    "! pip install textrank==0.1.2"
   ],
   "metadata": {
    "collapsed": false,
    "pycharm": {
     "name": "#%%\n"
    }
   }
  },
  {
   "cell_type": "code",
   "execution_count": 2,
   "outputs": [],
   "source": [
    "import os\n",
    "import pandas as pd\n",
    "\n",
    "from collections import Counter\n",
    "from konlpy.tag import Mecab\n",
    "from nltk import sent_tokenize\n",
    "\n",
    "path = os.path.join(os.getcwd(), \"sample_nlp.csv\")\n",
    "\n",
    "res = []\n",
    "with open(path, \"r\") as fs:\n",
    "    for line in fs:\n",
    "        res.append(line)\n",
    "\n",
    "lines = \" \".join(res)"
   ],
   "metadata": {
    "collapsed": false,
    "pycharm": {
     "name": "#%%\n"
    }
   }
  },
  {
   "cell_type": "markdown",
   "source": [
    "## word cloud / 단어 빈도 분석\n",
    "> 단어 빈도 분석이란 특정 문서에서 자주 사용되는 단어를 추출해내어, 빈도 수에 따라 중요도를 분석하는 방법을 말합니다.\n",
    "\n",
    "- 구성\n",
    "    - word_cloud 실행함수"
   ],
   "metadata": {
    "collapsed": false,
    "pycharm": {
     "name": "#%% md\n"
    }
   }
  },
  {
   "cell_type": "code",
   "execution_count": 3,
   "outputs": [],
   "source": [
    "# word_cloud 실행함수\n",
    "\n",
    "def word_cloud(lines):\n",
    "    noun_list = Mecab().nouns(lines)\n",
    "    df = pd.DataFrame([[k, v] for k, v in dict(Counter(noun_list)).items()], columns=[\"유형\", \"개수\"])\n",
    "    df = df.sort_values(\"개수\", ascending=False).head(50)\n",
    "    return {\n",
    "        \"fields\": [\n",
    "            {\"name\": \"유형\", \"type\": \"TEXT\"},\n",
    "            {\"name\": \"개수\", \"type\": \"INTEGER\"}],\n",
    "        \"results\": df.values.tolist()\n",
    "    }"
   ],
   "metadata": {
    "collapsed": false,
    "pycharm": {
     "name": "#%%\n"
    }
   }
  },
  {
   "cell_type": "markdown",
   "source": [
    "## word_relative / 연관어 분석\n",
    "> 연관어 분석은 문서 내 추출된 단어들이 동시에 출현한 빈도를 계산해서, 키워드 간의 연관도에 따른 네트워크 구성을 보여주는 시각화 기법입니다.\n",
    "\n",
    "- 구성\n",
    "  - word_relative 실행함수\n",
    "  - word_relative main logic"
   ],
   "metadata": {
    "collapsed": false,
    "pycharm": {
     "name": "#%% md\n"
    }
   }
  },
  {
   "cell_type": "code",
   "execution_count": 4,
   "outputs": [],
   "source": [
    "# word_relative 실행함수\n",
    "\n",
    "def word_relative(lines):\n",
    "    nlp_word_relative = NlpWordRelative()\n",
    "    nlp_word_relative.lines2sentences(lines)\n",
    "    df = nlp_word_relative.start()\n",
    "    return {\n",
    "        \"fields\": [\n",
    "            {\"name\": \"id\", \"type\": \"TEXT\"},\n",
    "            {\"name\": \"link\", \"type\": \"TEXT\"},\n",
    "            {\"name\": \"radius\", \"type\": \"INTEGER\"},\n",
    "            {\"name\": \"color\", \"type\": \"TEXT\"}],\n",
    "        \"results\": df.values.tolist()\n",
    "    }"
   ],
   "metadata": {
    "collapsed": false,
    "pycharm": {
     "name": "#%%\n"
    }
   }
  },
  {
   "cell_type": "code",
   "execution_count": 5,
   "outputs": [],
   "source": [
    "# word_relative main logic\n",
    "\n",
    "from colorutils import Color\n",
    "\n",
    "\n",
    "class NlpWordRelative:\n",
    "    def __init__(self):\n",
    "        self.key_list = {}\n",
    "        self.group_list = {}\n",
    "        self.colors = [0, 60, 120, 240, 300]\n",
    "        self.lines = None\n",
    "\n",
    "    def create_radius_df(self, words_list, n):\n",
    "        count = {}\n",
    "        for line in words_list:\n",
    "            words = Mecab().nouns(line)\n",
    "            for i, a in enumerate(words):\n",
    "                for b in words[i + 1:]:\n",
    "                    if a > b:\n",
    "                        count[b, a] = count.get((b, a), 0) + 1\n",
    "                    else:\n",
    "                        count[a, b] = count.get((a, b), 0) + 1\n",
    "\n",
    "        count.get((\"a\", \"b\"), 0)\n",
    "        df = pd.DataFrame.from_dict(count, orient='index')\n",
    "\n",
    "        edge_list = []\n",
    "        for i in range(len(df)):\n",
    "            edge_list.append([df.index[i][0], df.index[i][1], df[0][i], '#bfbfbf'])\n",
    "\n",
    "        df2 = pd.DataFrame(edge_list, columns=[\"id\", \"link\", \"radius\", \"color\"])\\\n",
    "            .sort_values(by=['radius'], ascending=False)\n",
    "\n",
    "        radius_df = df2.head(n)\n",
    "        return radius_df\n",
    "\n",
    "    def combine_group(self, l_idx, r_idx=None, new_group=None):\n",
    "        if r_idx:\n",
    "            for k, v in self.key_list.items():\n",
    "                if v == r_idx:\n",
    "                    self.key_list[k] = l_idx\n",
    "            new_group = self.group_list.pop(r_idx)\n",
    "        for k, v in new_group.items():\n",
    "            if k in self.group_list[l_idx].keys():\n",
    "                self.group_list[l_idx][k] = self.group_list[l_idx][k] + v\n",
    "            else:\n",
    "                self.group_list[l_idx][k] = v\n",
    "\n",
    "    def key_check(self, set_id, w):\n",
    "        if w[0] not in self.key_list and w[1] not in self.key_list:\n",
    "            set_id += 1  # new set_id\n",
    "            self.key_list[w[0]] = set_id\n",
    "            self.key_list[w[1]] = set_id\n",
    "            return set_id, None\n",
    "        elif w[0] in self.key_list and w[1] not in self.key_list:\n",
    "            self.key_list[w[1]] = self.key_list[w[0]]\n",
    "            return self.key_list[w[0]], None\n",
    "        elif w[1] in self.key_list and w[0] not in self.key_list:\n",
    "            self.key_list[w[0]] = self.key_list[w[1]]\n",
    "            return self.key_list[w[1]], None\n",
    "        else:\n",
    "            if self.key_list[w[0]] == self.key_list[w[1]]:\n",
    "                return self.key_list[w[0]], None\n",
    "            else:\n",
    "                return self.key_list[w[0]], self.key_list[w[1]]\n",
    "\n",
    "    def hsv_to_hex(self, h, s, v):\n",
    "        c = Color(hsv=(h, s / 100, v / 100))\n",
    "        red, green, blue = c.rgb\n",
    "        ir, ig, ib = int(red), int(green), int(blue)\n",
    "        return '#' + hex(ir)[2:].zfill(2) + hex(ig)[2:].zfill(2) + hex(ib)[2:].zfill(2)\n",
    "\n",
    "    def create_vertex_list(self, nodes, hue):\n",
    "        nodes_dict = dict(sorted(nodes.items(), key=lambda x: x[1], reverse=True))\n",
    "        node_list = []\n",
    "        s = 100\n",
    "        before = 0\n",
    "        for k, v in nodes_dict.items():\n",
    "            if before > v:\n",
    "                s -= 10\n",
    "            before = v\n",
    "            node_list.append([k, k, v, self.hsv_to_hex(hue, s, 100)])\n",
    "        node_list_with_color = pd.DataFrame(node_list, columns=[\"id\", \"link\", \"radius\", \"color\"])\n",
    "        return node_list_with_color\n",
    "\n",
    "    def manage_scale(self, nodes, max_value):\n",
    "        adj_value = 20 / max_value\n",
    "        for k, v in nodes.items():\n",
    "            nodes[k] = v * adj_value\n",
    "        return nodes\n",
    "\n",
    "    def lines2sentences(self, lines):   # 문장의 끝맺음이 제대로 되지 않을때 문장 분리\n",
    "        sentences = sent_tokenize(lines)\n",
    "        for idx in range(0, len(sentences)):\n",
    "            if len(sentences[idx]) <= 10:\n",
    "                sentences[idx - 1] += (' ' + sentences[idx])\n",
    "                sentences[idx] = ''\n",
    "\n",
    "        encode_check_list = []\n",
    "        for line in sentences:\n",
    "            encode_check_list.append(line)\n",
    "\n",
    "        self.lines = encode_check_list\n",
    "\n",
    "    def read_file(self, path):  # 문장의 끝맺음이 제대로 될때 사용시 성능 향상\n",
    "        text_file = open(path, \"r\")\n",
    "        file_content = text_file.read()\n",
    "\n",
    "        content_list = file_content.split(\"\\n\")\n",
    "        text_file.close()\n",
    "\n",
    "        self.lines = content_list\n",
    "\n",
    "    def start(self):\n",
    "        words_list = []\n",
    "        for text in self.lines:\n",
    "            words_list.append(text.strip())\n",
    "\n",
    "        radius_df = self.create_radius_df(words_list, 100)\n",
    "\n",
    "        i = 0\n",
    "        for index, row in radius_df.iterrows():\n",
    "            w1 = row['id']\n",
    "            w2 = row['link']\n",
    "            l_set_idx, r_set_idx = self.key_check(i, [w1, w2])\n",
    "            group = {}\n",
    "\n",
    "            if r_set_idx:\n",
    "                self.combine_group(l_set_idx, r_set_idx, None)\n",
    "                self.group_list[l_set_idx][w1] += row['radius']\n",
    "                self.group_list[l_set_idx][w2] += row['radius']\n",
    "            else:\n",
    "                if l_set_idx not in self.group_list:\n",
    "                    group[w1] = row['radius']\n",
    "                    group[w2] = row['radius']\n",
    "                    self.group_list[l_set_idx] = group\n",
    "                else:\n",
    "                    group[w1] = row['radius']\n",
    "                    group[w2] = row['radius']\n",
    "                    self.combine_group(l_set_idx, None, group)\n",
    "            i += 1\n",
    "\n",
    "        frames = []\n",
    "        j = 0\n",
    "        # 그룹 내 최댓값 찾기\n",
    "        max_value = 0\n",
    "        for g, gv in self.group_list.items():\n",
    "            all_values = gv.values()\n",
    "            temp = max(all_values)\n",
    "            if temp > max_value:\n",
    "                max_value = temp\n",
    "\n",
    "        for k, v in self.group_list.items():\n",
    "            frames.append(self.create_vertex_list(self.manage_scale(v, max_value), self.colors[j]))\n",
    "            j += 1\n",
    "\n",
    "        frames.append(radius_df)\n",
    "        result = pd.concat(frames)\n",
    "\n",
    "        return result\n"
   ],
   "metadata": {
    "collapsed": false,
    "pycharm": {
     "name": "#%%\n"
    }
   }
  },
  {
   "cell_type": "markdown",
   "source": [
    "## key_sentence / 핵심 문장 추출\n",
    "> 핵심 문장 추출을 통해 문서를 요약할 수 있는 핵심이 되는 내용을 확인할 수 있습니다.\n",
    "\n",
    "- 구성\n",
    "  - key_sentence 실행함수\n",
    "  - key_sentence main logic"
   ],
   "metadata": {
    "collapsed": false,
    "pycharm": {
     "name": "#%% md\n"
    }
   }
  },
  {
   "cell_type": "code",
   "execution_count": 6,
   "outputs": [],
   "source": [
    "# key_sentence 실행함수\n",
    "\n",
    "def key_sentence(lines):\n",
    "    nlp_sentence = NlpSentence()\n",
    "    nlp_sentence.lines2sentences(lines)\n",
    "    nlp_sentence.set_summary_line_cnt(5)\n",
    "\n",
    "    runner = nlp_sentence.run()\n",
    "    return {\n",
    "        \"fields\": [\n",
    "            {\"name\": \"핵심 문장 추출\", \"type\": \"TEXT\"}],\n",
    "        \"results\": [[res[2]] for res in runner]\n",
    "    }"
   ],
   "metadata": {
    "collapsed": false,
    "pycharm": {
     "name": "#%%\n"
    }
   }
  },
  {
   "cell_type": "code",
   "execution_count": 7,
   "outputs": [],
   "source": [
    "# key_sentence main logic\n",
    "\n",
    "from konlpy.tag import Komoran\n",
    "from textrank import KeysentenceSummarizer\n",
    "\n",
    "\n",
    "class NlpSentence:\n",
    "    def __init__(self):\n",
    "        self.komoran = Komoran()\n",
    "        self.sents = None\n",
    "        self.cnt = 6\n",
    "\n",
    "    def read_file(self, path):  # 문장의 끝맺음이 제대로 될때 사용시 성능 향상\n",
    "        text_file = open(path, \"r\")\n",
    "        file_content = text_file.read()\n",
    "\n",
    "        content_list = file_content.split(\"\\n\")\n",
    "        text_file.close()\n",
    "\n",
    "        self.sents = content_list\n",
    "\n",
    "    def lines2sentences(self, lines):   # 문장의 끝맺음이 제대로 되지 않을때 문장 분리\n",
    "        sentences = sent_tokenize(lines)\n",
    "        for idx in range(0, len(sentences)):\n",
    "            if len(sentences[idx]) <= 10:\n",
    "                sentences[idx - 1] += (' ' + sentences[idx])\n",
    "                sentences[idx] = ''\n",
    "\n",
    "        self.sents = sentences\n",
    "\n",
    "    def komoran_tokenizer(self, sent):\n",
    "        words = self.komoran.pos(sent, join=True)\n",
    "        words = [w for w in words if ('/NN' in w or '/XR' in w or '/VA' in w or '/VV' in w)]\n",
    "        return words\n",
    "\n",
    "    def set_summary_line_cnt(self, cnt):\n",
    "        self.cnt = cnt\n",
    "\n",
    "    def run(self):\n",
    "        summarizer = KeysentenceSummarizer(\n",
    "            tokenize=self.komoran_tokenizer,\n",
    "            min_sim=0.3,\n",
    "            verbose=False\n",
    "        )\n",
    "        keysents = summarizer.summarize(self.sents, topk=self.cnt)\n",
    "        return keysents\n"
   ],
   "metadata": {
    "collapsed": false,
    "pycharm": {
     "name": "#%%\n"
    }
   }
  },
  {
   "cell_type": "markdown",
   "source": [
    "# 함수 시연\n",
    "## word_cloud / 단어 빈도 분석"
   ],
   "metadata": {
    "collapsed": false,
    "pycharm": {
     "name": "#%% md\n"
    }
   }
  },
  {
   "cell_type": "code",
   "execution_count": 8,
   "outputs": [
    {
     "name": "stdout",
     "output_type": "stream",
     "text": [
      "{'fields': [{'name': '유형', 'type': 'TEXT'}, {'name': '개수', 'type': 'INTEGER'}], 'results': [['파이썬', 13], ['언어', 12], ['수', 7], ['인터프리터', 7], ['등', 5], ['이용', 5], ['속도', 5], ['프로그램', 5], ['사용', 5], ['모듈', 4], ['제한', 3], ['중요', 3], ['코드', 3], ['실행', 3], ['타이핑', 3], ['분야', 2], ['접근', 2], ['문법', 2], ['객체', 2], ['사용자', 2], ['들여쓰기', 2], ['강조', 2], ['채용', 2], ['시간', 2], ['작성', 2], ['응용', 2], ['수행', 2], ['스택', 2], ['및', 2], ['플랫폼', 2], ['프로그래밍', 2], ['기관', 2], ['동적', 2], ['소스', 1], ['때', 1], ['때문', 1], ['다음', 1], ['과학', 1], ['바이트', 1], ['공학', 1], ['컴파일', 1], ['컴퓨터', 1], ['연산', 1], ['하나', 1], ['동작', 1], ['현대', 1], ['I', 1], ['제이', 1], ['과거', 1], ['머신', 1]]}\n"
     ]
    }
   ],
   "source": [
    "word_cloud_result = word_cloud(lines)\n",
    "print(word_cloud_result)"
   ],
   "metadata": {
    "collapsed": false,
    "pycharm": {
     "name": "#%%\n"
    }
   }
  },
  {
   "cell_type": "markdown",
   "source": [
    "## word_relative / 연관어 분석"
   ],
   "metadata": {
    "collapsed": false,
    "pycharm": {
     "name": "#%% md\n"
    }
   }
  },
  {
   "cell_type": "code",
   "execution_count": 9,
   "outputs": [
    {
     "name": "stdout",
     "output_type": "stream",
     "text": [
      "{'fields': [{'name': 'id', 'type': 'TEXT'}, {'name': 'link', 'type': 'TEXT'}, {'name': 'radius', 'type': 'INTEGER'}, {'name': 'color', 'type': 'TEXT'}], 'results': [['언어', '언어', 19.999999999999996, '#ff0000'], ['등', '등', 19.740259740259738, '#ff1919'], ['속도', '속도', 19.48051948051948, '#ff3333'], ['파이썬', '파이썬', 13.506493506493506, '#ff4c4c'], ['프로그램', '프로그램', 8.83116883116883, '#ff6666'], ['수', '수', 8.571428571428571, '#ff7f7f'], ['모듈', '모듈', 5.454545454545454, '#ff9999'], ['중요', '중요', 3.3766233766233764, '#ffb2b2'], ['인터프리터', '인터프리터', 3.1168831168831166, '#ffcccc'], ['이용', '이용', 3.1168831168831166, '#ffcccc'], ['사용자', '사용자', 3.1168831168831166, '#ffcccc'], ['사용', '사용', 2.8571428571428568, '#ffe5e5'], ['분야', '분야', 2.8571428571428568, '#ffe5e5'], ['코드', '코드', 2.3376623376623376, '#ffffff'], ['응용', '응용', 2.3376623376623376, '#ffffff'], ['일반', '일반', 2.0779220779220777, '#ff118118'], ['컴퓨터', '컴퓨터', 2.0779220779220777, '#ff118118'], ['사업', '사업', 2.0779220779220777, '#ff118118'], ['생성', '생성', 1.5584415584415583, '#ff132132'], ['환경', '환경', 1.5584415584415583, '#ff132132'], ['뒤', '뒤', 1.5584415584415583, '#ff132132'], ['경우', '경우', 1.5584415584415583, '#ff132132'], ['프로토', '프로토', 1.5584415584415583, '#ff132132'], ['타이핑', '타이핑', 1.5584415584415583, '#ff132132'], ['필요', '필요', 1.5584415584415583, '#ff132132'], ['부분', '부분', 1.5584415584415583, '#ff132132'], ['래퍼', '래퍼', 1.5584415584415583, '#ff132132'], ['객체', '객체', 1.2987012987012987, '#ff14b14b'], ['접근', '접근', 1.2987012987012987, '#ff14b14b'], ['프로그래밍', '프로그래밍', 1.2987012987012987, '#ff14b14b'], ['실행', '실행', 1.0389610389610389, '#ff165165'], ['제한', '제한', 1.0389610389610389, '#ff165165'], ['순수', '순수', 0.7792207792207791, '#ff17e17e'], ['접착제', '접착제', 0.7792207792207791, '#ff17e17e'], ['연결', '연결', 0.7792207792207791, '#ff17e17e'], ['외', '외', 0.7792207792207791, '#ff17e17e'], ['기능', '기능', 0.7792207792207791, '#ff17e17e'], ['기존', '기존', 0.5194805194805194, '#ff198198'], ['강조', '강조', 0.5194805194805194, '#ff198198'], ['예제', '예제', 0.5194805194805194, '#ff198198'], ['기본', '기본', 0.5194805194805194, '#ff198198'], ['석기', '석기', 0.5194805194805194, '#ff198198'], ['위', '위', 0.5194805194805194, '#ff198198'], ['평가', '평가', 0.5194805194805194, '#ff198198'], ['것', '것', 0.5194805194805194, '#ff198198'], ['염두', '염두', 0.5194805194805194, '#ff198198'], ['설계', '설계', 0.5194805194805194, '#ff198198'], ['클래스', '클래스', 0.5194805194805194, '#ff198198'], ['시간', '시간', 0.5194805194805194, '#ff198198'], ['작성', '작성', 0.5194805194805194, '#ff198198'], ['채용', '채용', 0.5194805194805194, '#ff198198'], ['비판', '비판', 0.5194805194805194, '#ff198198'], ['요소', '요소', 0.5194805194805194, '#ff198198'], ['스타일', '스타일', 0.5194805194805194, '#ff198198'], ['코딩', '코딩', 0.5194805194805194, '#ff198198'], ['프로그래머', '프로그래머', 0.5194805194805194, '#ff198198'], ['등', '속도', 10.0, '#bfbfbf'], ['언어', '파이썬', 8.0, '#bfbfbf'], ['인터프리터', '파이썬', 7.0, '#bfbfbf'], ['속도', '프로그램', 6.0, '#bfbfbf'], ['사용', '파이썬', 6.0, '#bfbfbf'], ['언어', '프로그램', 6.0, '#bfbfbf'], ['코드', '파이썬', 6.0, '#bfbfbf'], ['등', '프로그램', 6.0, '#bfbfbf'], ['수', '이용', 5.0, '#bfbfbf'], ['모듈', '언어', 5.0, '#bfbfbf'], ['속도', '언어', 5.0, '#bfbfbf'], ['모듈', '수', 4.0, '#bfbfbf'], ['언어', '이용', 4.0, '#bfbfbf'], ['사용자', '언어', 4.0, '#bfbfbf'], ['등', '수', 4.0, '#bfbfbf'], ['등', '언어', 4.0, '#bfbfbf'], ['언어', '언어', 4.0, '#bfbfbf'], ['등', '분야', 4.0, '#bfbfbf'], ['속도', '일반', 3.0, '#bfbfbf'], ['사용', '언어', 3.0, '#bfbfbf'], ['속도', '컴퓨터', 3.0, '#bfbfbf'], ['순수', '언어', 3.0, '#bfbfbf'], ['속도', '중요', 3.0, '#bfbfbf'], ['속도', '응용', 3.0, '#bfbfbf'], ['응용', '프로그램', 3.0, '#bfbfbf'], ['등', '생성', 3.0, '#bfbfbf'], ['모듈', '이용', 3.0, '#bfbfbf'], ['속도', '환경', 3.0, '#bfbfbf'], ['객체', '수', 3.0, '#bfbfbf'], ['뒤', '속도', 3.0, '#bfbfbf'], ['속도', '속도', 3.0, '#bfbfbf'], ['경우', '속도', 3.0, '#bfbfbf'], ['속도', '프로토', 3.0, '#bfbfbf'], ['속도', '타이핑', 3.0, '#bfbfbf'], ['속도', '필요', 3.0, '#bfbfbf'], ['부분', '속도', 3.0, '#bfbfbf'], ['모듈', '속도', 3.0, '#bfbfbf'], ['속도', '수', 3.0, '#bfbfbf'], ['언어', '접착제', 3.0, '#bfbfbf'], ['언어', '연결', 3.0, '#bfbfbf'], ['언어', '외', 3.0, '#bfbfbf'], ['기능', '언어', 3.0, '#bfbfbf'], ['래퍼', '속도', 3.0, '#bfbfbf'], ['생성', '속도', 3.0, '#bfbfbf'], ['모듈', '프로그램', 3.0, '#bfbfbf'], ['등', '래퍼', 3.0, '#bfbfbf'], ['언어', '중요', 3.0, '#bfbfbf'], ['등', '모듈', 3.0, '#bfbfbf'], ['등', '등', 3.0, '#bfbfbf'], ['등', '환경', 3.0, '#bfbfbf'], ['등', '중요', 3.0, '#bfbfbf'], ['수', '언어', 3.0, '#bfbfbf'], ['등', '일반', 3.0, '#bfbfbf'], ['경우', '등', 3.0, '#bfbfbf'], ['등', '응용', 3.0, '#bfbfbf'], ['등', '프로토', 3.0, '#bfbfbf'], ['인터프리터', '코드', 3.0, '#bfbfbf'], ['등', '타이핑', 3.0, '#bfbfbf'], ['분야', '속도', 3.0, '#bfbfbf'], ['등', '컴퓨터', 3.0, '#bfbfbf'], ['뒤', '등', 3.0, '#bfbfbf'], ['사업', '속도', 3.0, '#bfbfbf'], ['등', '사업', 3.0, '#bfbfbf'], ['수', '접근', 3.0, '#bfbfbf'], ['등', '필요', 3.0, '#bfbfbf'], ['등', '부분', 3.0, '#bfbfbf'], ['언어', '프로그래밍', 3.0, '#bfbfbf'], ['파이썬', '파이썬', 3.0, '#bfbfbf'], ['기존', '사용자', 2.0, '#bfbfbf'], ['분야', '수', 2.0, '#bfbfbf'], ['강조', '파이썬', 2.0, '#bfbfbf'], ['사용자', '프로그래밍', 2.0, '#bfbfbf'], ['객체', '접근', 2.0, '#bfbfbf'], ['분야', '프로그램', 2.0, '#bfbfbf'], ['실행', '파이썬', 2.0, '#bfbfbf'], ['예제', '파이썬', 2.0, '#bfbfbf'], ['기본', '파이썬', 2.0, '#bfbfbf'], ['석기', '파이썬', 2.0, '#bfbfbf'], ['위', '파이썬', 2.0, '#bfbfbf'], ['사용자', '평가', 2.0, '#bfbfbf'], ['것', '파이썬', 2.0, '#bfbfbf'], ['염두', '파이썬', 2.0, '#bfbfbf'], ['설계', '파이썬', 2.0, '#bfbfbf'], ['수', '클래스', 2.0, '#bfbfbf'], ['사업', '프로그램', 2.0, '#bfbfbf'], ['중요', '프로그램', 2.0, '#bfbfbf'], ['시간', '실행', 2.0, '#bfbfbf'], ['수', '제한', 2.0, '#bfbfbf'], ['작성', '파이썬', 2.0, '#bfbfbf'], ['사용자', '중요', 2.0, '#bfbfbf'], ['채용', '파이썬', 2.0, '#bfbfbf'], ['사용', '인터프리터', 2.0, '#bfbfbf'], ['컴퓨터', '프로그램', 2.0, '#bfbfbf'], ['비판', '언어', 2.0, '#bfbfbf'], ['수', '요소', 2.0, '#bfbfbf'], ['언어', '제한', 2.0, '#bfbfbf'], ['스타일', '언어', 2.0, '#bfbfbf'], ['일반', '프로그램', 2.0, '#bfbfbf'], ['언어', '코딩', 2.0, '#bfbfbf'], ['언어', '프로그래머', 2.0, '#bfbfbf']]}\n"
     ]
    }
   ],
   "source": [
    "word_relative_result = word_relative(lines)\n",
    "print(word_relative_result)"
   ],
   "metadata": {
    "collapsed": false,
    "pycharm": {
     "name": "#%%\n"
    }
   }
  },
  {
   "cell_type": "markdown",
   "source": [
    "## key_sentence / 핵심 문장 추출"
   ],
   "metadata": {
    "collapsed": false,
    "pycharm": {
     "name": "#%% md\n"
    }
   }
  },
  {
   "cell_type": "code",
   "execution_count": 10,
   "outputs": [
    {
     "name": "stdout",
     "output_type": "stream",
     "text": [
      "{'fields': [{'name': '핵심 문장 추출', 'type': 'TEXT'}], 'results': [['현대의 파이썬은 여전히 인터프리터 언어처럼 동작하나 사용자가 모르는 사이에 스스로 파이썬 소스 코드를 컴파일하여 바이트 코드(Byte code)를 만들어 냄으로써 다음에 수행할 때에는 빠른 속도를 보여 준다.'], ['이 문법은 파이썬에 익숙한 사용자나 기존 프로그래밍 언어에서 들여쓰기의 중요성을 높이 평가하는 사용자에게는 잘 받아들여지고 있지만, 다른 언어의 사용자에게서는 프로그래머의 코딩 스타일을 제한한다는 비판도 많다.'], ['모듈, 클래스, 객체와 같은 언어의 요소가 내부에서 접근할 수 있고, 리플렉션을 이용한 기술을 쓸 수 있다.'], ['그러나 사업 분야 등 일반적인 컴퓨터 응용 환경에서는 속도가 그리 중요하지 않고, 빠른 속도를 요하는 프로그램의 경우에도 프로토타이핑한 뒤 빠른 속도가 필요한 부분만 골라서 C 언어 등으로 모듈화할 수 있다(ctypes, SWIG, SIP 등의 래퍼 생성 프로그램들이 많이 있다).'], ['다양한 플랫폼에서 쓸 수 있고, 라이브러리(모듈)가 풍부하여, 대학을 비롯한 여러 교육 기관, 연구 기관 및 산업계에서 이용이 증가하고 있다.']]}\n"
     ]
    }
   ],
   "source": [
    "key_sentence_result = key_sentence(lines)\n",
    "print(key_sentence_result)"
   ],
   "metadata": {
    "collapsed": false,
    "pycharm": {
     "name": "#%%\n"
    }
   }
  }
 ],
 "metadata": {
  "kernelspec": {
   "display_name": "Python 3",
   "language": "python",
   "name": "python3"
  },
  "language_info": {
   "codemirror_mode": {
    "name": "ipython",
    "version": 2
   },
   "file_extension": ".py",
   "mimetype": "text/x-python",
   "name": "python",
   "nbconvert_exporter": "python",
   "pygments_lexer": "ipython2",
   "version": "2.7.6"
  }
 },
 "nbformat": 4,
 "nbformat_minor": 0
}